{
 "cells": [
  {
   "cell_type": "markdown",
   "metadata": {},
   "source": [
    "# Initialize the spark environment"
   ]
  },
  {
   "cell_type": "code",
   "execution_count": 1,
   "metadata": {},
   "outputs": [],
   "source": [
    "import findspark\n",
    "findspark.init()\n",
    "\n",
    "from pyspark.ml import Pipeline\n",
    "from pyspark.sql import SparkSession \n",
    "import pyspark.sql.functions as F\n",
    "spark = SparkSession.builder.master('local').getOrCreate()"
   ]
  },
  {
   "cell_type": "markdown",
   "metadata": {},
   "source": [
    "# Feature Struct"
   ]
  },
  {
   "cell_type": "markdown",
   "metadata": {},
   "source": [
    "* DataFrame operation https://blog.csdn.net/sinat_26917383/article/details/80500349 \n",
    "* DataFrame basis https://zhuanlan.zhihu.com/p/34901683\n",
    "* User-defined function https://stackoverflow.com/questions/29109916/updating-a-dataframe-column-in-spark"
   ]
  },
  {
   "cell_type": "markdown",
   "metadata": {},
   "source": [
    "### Set schema"
   ]
  },
  {
   "cell_type": "code",
   "execution_count": 2,
   "metadata": {},
   "outputs": [],
   "source": [
    "from pyspark.sql.types import StructType, StructField, IntegerType, StringType, FloatType"
   ]
  },
  {
   "cell_type": "code",
   "execution_count": 3,
   "metadata": {},
   "outputs": [],
   "source": [
    "schema = StructType([\n",
    "StructField(\"duration\",IntegerType(),False),\n",
    "StructField(\"protocol_type\",StringType(),False),\n",
    "StructField(\"service\",StringType(),False),\n",
    "StructField(\"flag\",StringType(),False),\n",
    "StructField(\"src_bytes\",IntegerType(),False),\n",
    "StructField(\"dst_bytes\",IntegerType(),False),\n",
    "StructField(\"land\",IntegerType(),False),\n",
    "StructField(\"wrong_fragment\",IntegerType(),False),\n",
    "StructField(\"urgent\",IntegerType(),False),\n",
    "StructField(\"hot\",IntegerType(),False),\n",
    "StructField(\"num_failed_logins\",IntegerType(),False),\n",
    "StructField(\"logged_in\",IntegerType(),False),\n",
    "StructField(\"num_compromised\",IntegerType(),False),\n",
    "StructField(\"root_shell\",IntegerType(),False),\n",
    "StructField(\"su_attempted\",IntegerType(),False),\n",
    "StructField(\"num_root\",IntegerType(),False),\n",
    "StructField(\"num_file_creations\",IntegerType(),False),\n",
    "StructField(\"num_shells\",IntegerType(),False),\n",
    "StructField(\"num_access_files\",IntegerType(),False),\n",
    "StructField(\"num_outbound_cmds\",IntegerType(),False),\n",
    "StructField(\"is_host_login\",IntegerType(),False),\n",
    "StructField(\"is_guest_login\",IntegerType(),False),\n",
    "StructField(\"count\",IntegerType(),False),\n",
    "StructField(\"srv_count\",IntegerType(),False),\n",
    "StructField(\"serror_rate\",FloatType(),False),\n",
    "StructField(\"srv_serror_rate\",FloatType(),False),\n",
    "StructField(\"rerror_rate\",FloatType(),False),\n",
    "StructField(\"srv_rerror_rate\",FloatType(),False),\n",
    "StructField(\"same_srv_rate\",FloatType(),False),\n",
    "StructField(\"diff_srv_rate\",FloatType(),False),\n",
    "StructField(\"srv_diff_host_rate\",FloatType(),False),\n",
    "StructField(\"dst_host_count\",IntegerType(),False),\n",
    "StructField(\"dst_host_srv_count\",IntegerType(),False),\n",
    "StructField(\"dst_host_same_srv_rate\",FloatType(),False),\n",
    "StructField(\"dst_host_diff_srv_rate\",FloatType(),False),\n",
    "StructField(\"dst_host_same_src_port_rate\",FloatType(),False),\n",
    "StructField(\"dst_host_srv_diff_host_rate\",FloatType(),False),\n",
    "StructField(\"dst_host_serror_rate\",FloatType(),False),\n",
    "StructField(\"dst_host_srv_serror_rate\",FloatType(),False),\n",
    "StructField(\"dst_host_rerror_rate\",FloatType(),False),\n",
    "StructField(\"dst_host_srv_rerror_rate\",FloatType(),False),\n",
    "StructField(\"label\",StringType(),False)\n",
    "])"
   ]
  },
  {
   "cell_type": "markdown",
   "metadata": {},
   "source": [
    "### Read dataset"
   ]
  },
  {
   "cell_type": "code",
   "execution_count": 4,
   "metadata": {},
   "outputs": [
    {
     "name": "stdout",
     "output_type": "stream",
     "text": [
      "root\n",
      " |-- duration: integer (nullable = true)\n",
      " |-- protocol_type: string (nullable = true)\n",
      " |-- service: string (nullable = true)\n",
      " |-- flag: string (nullable = true)\n",
      " |-- src_bytes: integer (nullable = true)\n",
      " |-- dst_bytes: integer (nullable = true)\n",
      " |-- land: integer (nullable = true)\n",
      " |-- wrong_fragment: integer (nullable = true)\n",
      " |-- urgent: integer (nullable = true)\n",
      " |-- hot: integer (nullable = true)\n",
      " |-- num_failed_logins: integer (nullable = true)\n",
      " |-- logged_in: integer (nullable = true)\n",
      " |-- num_compromised: integer (nullable = true)\n",
      " |-- root_shell: integer (nullable = true)\n",
      " |-- su_attempted: integer (nullable = true)\n",
      " |-- num_root: integer (nullable = true)\n",
      " |-- num_file_creations: integer (nullable = true)\n",
      " |-- num_shells: integer (nullable = true)\n",
      " |-- num_access_files: integer (nullable = true)\n",
      " |-- num_outbound_cmds: integer (nullable = true)\n",
      " |-- is_host_login: integer (nullable = true)\n",
      " |-- is_guest_login: integer (nullable = true)\n",
      " |-- count: integer (nullable = true)\n",
      " |-- srv_count: integer (nullable = true)\n",
      " |-- serror_rate: float (nullable = true)\n",
      " |-- srv_serror_rate: float (nullable = true)\n",
      " |-- rerror_rate: float (nullable = true)\n",
      " |-- srv_rerror_rate: float (nullable = true)\n",
      " |-- same_srv_rate: float (nullable = true)\n",
      " |-- diff_srv_rate: float (nullable = true)\n",
      " |-- srv_diff_host_rate: float (nullable = true)\n",
      " |-- dst_host_count: integer (nullable = true)\n",
      " |-- dst_host_srv_count: integer (nullable = true)\n",
      " |-- dst_host_same_srv_rate: float (nullable = true)\n",
      " |-- dst_host_diff_srv_rate: float (nullable = true)\n",
      " |-- dst_host_same_src_port_rate: float (nullable = true)\n",
      " |-- dst_host_srv_diff_host_rate: float (nullable = true)\n",
      " |-- dst_host_serror_rate: float (nullable = true)\n",
      " |-- dst_host_srv_serror_rate: float (nullable = true)\n",
      " |-- dst_host_rerror_rate: float (nullable = true)\n",
      " |-- dst_host_srv_rerror_rate: float (nullable = true)\n",
      " |-- label: string (nullable = true)\n",
      "\n"
     ]
    }
   ],
   "source": [
    "dataset = spark.read.csv('Data/kddcup.data_10_percent.gz', header=None,schema=schema)\n",
    "dataset.printSchema()"
   ]
  },
  {
   "cell_type": "markdown",
   "metadata": {},
   "source": [
    "## Attack type division"
   ]
  },
  {
   "cell_type": "markdown",
   "metadata": {},
   "source": [
    "40 attack types, mapped into five categories:\n",
    "\n",
    "* 0 NORMAL\n",
    "* 1 PROBE\n",
    "* 2 DOS\n",
    "* 3 U2R\n",
    "* 4 R2L"
   ]
  },
  {
   "cell_type": "code",
   "execution_count": 5,
   "metadata": {},
   "outputs": [],
   "source": [
    "attack2majorindex = {\n",
    "        'normal.': 0,\n",
    "        'ipsweep.': 1,\n",
    "        'mscan.': 1,\n",
    "        'nmap.': 1,\n",
    "        'portsweep.': 1,\n",
    "        'saint.': 1,\n",
    "        'satan.': 1,\n",
    "        'apache2.': 2,\n",
    "        'back.': 2,\n",
    "        'mailbomb.': 2,\n",
    "        'neptune.': 2,\n",
    "        'pod.': 2,\n",
    "        'land.': 2,\n",
    "        'processtable.': 2,\n",
    "        'smurf.': 2,\n",
    "        'teardrop.': 2,\n",
    "        'udpstorm.': 2,\n",
    "        'buffer_overflow.': 3,\n",
    "        'loadmodule.': 3,\n",
    "        'perl.': 3,\n",
    "        'ps.': 3,\n",
    "        'rootkit.': 3,\n",
    "        'sqlattack.': 3,\n",
    "        'xterm.': 3,\n",
    "        'ftp_write.': 4,\n",
    "        'guess_passwd.': 4,\n",
    "        'httptunnel.': 3,  \n",
    "        'imap.': 4,\n",
    "        'multihop.': 4, \n",
    "        'named.': 4,\n",
    "        'phf.': 4,\n",
    "        'sendmail.': 4,\n",
    "        'snmpgetattack.': 4,\n",
    "        'snmpguess.': 4,\n",
    "        'worm.': 4,\n",
    "        'xlock.': 4,\n",
    "        'xsnoop.': 4,\n",
    "        'spy.': 4,\n",
    "        'warezclient.': 4,\n",
    "        'warezmaster.': 4  \n",
    "}\n",
    "index2major ={\n",
    "    0:'NORMAL',\n",
    "    1:'PROBE',\n",
    "    2:'DOS',\n",
    "    3:'U2R',\n",
    "    4:'R2L'\n",
    "}"
   ]
  },
  {
   "cell_type": "markdown",
   "metadata": {},
   "source": [
    "* index: in 40 attack types\n",
    "* return: attack_type to index in [0,1,2,3,4]"
   ]
  },
  {
   "cell_type": "code",
   "execution_count": 6,
   "metadata": {},
   "outputs": [],
   "source": [
    "def attack2majorindex(label):\n",
    "    return specific[label]"
   ]
  },
  {
   "cell_type": "markdown",
   "metadata": {},
   "source": [
    "* index: in [0,1,2,3,4]\n",
    "* return: String: NORMAL,PROBE,DOS,U2R,R2L"
   ]
  },
  {
   "cell_type": "code",
   "execution_count": 7,
   "metadata": {},
   "outputs": [],
   "source": [
    "def majorindex2string(index):\n",
    "    return index2major[index]"
   ]
  },
  {
   "cell_type": "code",
   "execution_count": 8,
   "metadata": {},
   "outputs": [],
   "source": [
    "#Define function by myself\n",
    "function_attack2majorindex = F.UserDefinedFunction(attack2majorindex,IntegerType())"
   ]
  },
  {
   "cell_type": "code",
   "execution_count": 9,
   "metadata": {},
   "outputs": [
    {
     "name": "stdout",
     "output_type": "stream",
     "text": [
      "+-----+\n",
      "|label|\n",
      "+-----+\n",
      "|    0|\n",
      "|    0|\n",
      "|    0|\n",
      "|    0|\n",
      "|    0|\n",
      "+-----+\n",
      "only showing top 5 rows\n",
      "\n"
     ]
    }
   ],
   "source": [
    "dataset = dataset.select(\n",
    "    *[function_attack2majorindex(column).alias('label') if column == 'label' else column for column in dataset.columns]\n",
    ")\n",
    "dataset.select('label').show(5)"
   ]
  },
  {
   "cell_type": "markdown",
   "metadata": {},
   "source": [
    "### Classification Coding Pipeline"
   ]
  },
  {
   "cell_type": "code",
   "execution_count": 10,
   "metadata": {},
   "outputs": [],
   "source": [
    "from pyspark.ml.feature import StringIndexer\n",
    "from pyspark.ml import PipelineModel\n",
    "\n",
    "fearture_string = ['protocol_type', 'service', 'flag']\n",
    "pipeline_stringindex = Pipeline(stages=[\n",
    "    StringIndexer(inputCol=c, outputCol='{}_index'.format(c),handleInvalid='keep')\n",
    "    for c in fearture_string\n",
    "])\n",
    "\n",
    "pipeline_stringindex_fitted = pipeline_stringindex.fit(dataset=dataset)"
   ]
  },
  {
   "cell_type": "code",
   "execution_count": 11,
   "metadata": {},
   "outputs": [],
   "source": [
    "dataset_indexed = pipeline_stringindex_fitted.transform(dataset=dataset)"
   ]
  },
  {
   "cell_type": "code",
   "execution_count": 12,
   "metadata": {},
   "outputs": [
    {
     "name": "stdout",
     "output_type": "stream",
     "text": [
      "+-------------+-------------------+-------+-------------+----+----------+-----+\n",
      "|protocol_type|protocol_type_index|service|service_index|flag|flag_index|label|\n",
      "+-------------+-------------------+-------+-------------+----+----------+-----+\n",
      "|          tcp|                1.0|   http|          2.0|  SF|       0.0|    0|\n",
      "|          tcp|                1.0|   http|          2.0|  SF|       0.0|    0|\n",
      "|          tcp|                1.0|   http|          2.0|  SF|       0.0|    0|\n",
      "|          tcp|                1.0|   http|          2.0|  SF|       0.0|    0|\n",
      "|          tcp|                1.0|   http|          2.0|  SF|       0.0|    0|\n",
      "+-------------+-------------------+-------+-------------+----+----------+-----+\n",
      "only showing top 5 rows\n",
      "\n"
     ]
    }
   ],
   "source": [
    "dataset_indexed.select('protocol_type','protocol_type_index','service','service_index','flag','flag_index','label').show(5)"
   ]
  },
  {
   "cell_type": "code",
   "execution_count": 13,
   "metadata": {},
   "outputs": [],
   "source": [
    "pipeline_stringindex_fitted.write().overwrite().save('SparkRF/pipeline_stringindex_fitted')"
   ]
  },
  {
   "cell_type": "code",
   "execution_count": 14,
   "metadata": {},
   "outputs": [],
   "source": [
    "pipeline_stringindex_fitted = PipelineModel.load('SparkRF/pipeline_stringindex_fitted')"
   ]
  },
  {
   "cell_type": "markdown",
   "metadata": {},
   "source": [
    "# Random Forest"
   ]
  },
  {
   "cell_type": "markdown",
   "metadata": {},
   "source": [
    "* maxBin https://stackoverflow.com/questions/38767786/spark-mllib-2-0-categorical-features-in-pipeline"
   ]
  },
  {
   "cell_type": "code",
   "execution_count": 15,
   "metadata": {},
   "outputs": [],
   "source": [
    "from pyspark.ml.classification import RandomForestClassifier\n",
    "from pyspark.ml.feature import VectorAssembler\n",
    "from time import time"
   ]
  },
  {
   "cell_type": "code",
   "execution_count": 16,
   "metadata": {},
   "outputs": [],
   "source": [
    "def featuresToVec(dataset_indexed):\n",
    "    \n",
    "    features=[dataset_indexed.columns[0]]+dataset_indexed.columns[4:]\n",
    "    features.remove('label')\n",
    "    feature_vec = VectorAssembler(inputCols=features,outputCol='feature_vec').transform(dataset_indexed)\n",
    "    \n",
    "    return feature_vec.select('feature_vec','label')"
   ]
  },
  {
   "cell_type": "code",
   "execution_count": 17,
   "metadata": {},
   "outputs": [],
   "source": [
    "dataset_indexed = featuresToVec(dataset_indexed)"
   ]
  },
  {
   "cell_type": "code",
   "execution_count": 18,
   "metadata": {},
   "outputs": [],
   "source": [
    "train_set,test_set = dataset_indexed.randomSplit([0.8,0.2])"
   ]
  },
  {
   "cell_type": "code",
   "execution_count": 19,
   "metadata": {},
   "outputs": [],
   "source": [
    "rf = RandomForestClassifier(\n",
    "    featuresCol='feature_vec',\n",
    "    labelCol='label', \n",
    "    impurity='gini', \n",
    "    maxDepth=8, \n",
    "    maxBins=72, \n",
    "    numTrees=200, \n",
    "    subsamplingRate = 1.0, \n",
    "    seed=5, \n",
    ")"
   ]
  },
  {
   "cell_type": "markdown",
   "metadata": {},
   "source": [
    "### Train the model"
   ]
  },
  {
   "cell_type": "code",
   "execution_count": 20,
   "metadata": {},
   "outputs": [
    {
     "name": "stdout",
     "output_type": "stream",
     "text": [
      "Trains in 245.719 seconds\n"
     ]
    }
   ],
   "source": [
    "t0 = time()\n",
    "rf_model = rf.fit(train_set)\n",
    "tt = time() -t0\n",
    "print(\"Trains in {} seconds\".format(round(tt,3)))"
   ]
  },
  {
   "cell_type": "code",
   "execution_count": 21,
   "metadata": {},
   "outputs": [],
   "source": [
    "rf_model.write().overwrite().save('SparkRF/rf_SparkRF')"
   ]
  },
  {
   "cell_type": "code",
   "execution_count": 22,
   "metadata": {},
   "outputs": [],
   "source": [
    "from pyspark.ml.classification import RandomForestClassificationModel\n",
    "rf_model=RandomForestClassificationModel.load('SparkRF/rf_SparkRF')"
   ]
  },
  {
   "cell_type": "markdown",
   "metadata": {},
   "source": [
    "### Predict"
   ]
  },
  {
   "cell_type": "code",
   "execution_count": 23,
   "metadata": {},
   "outputs": [
    {
     "name": "stdout",
     "output_type": "stream",
     "text": [
      "Perdict in 0.039 seconds\n"
     ]
    }
   ],
   "source": [
    "t0 = time()\n",
    "test_result = rf_model.transform(test_set)\n",
    "tt = time() -t0\n",
    "print(\"Perdict in {} seconds\".format(round(tt,3)))"
   ]
  },
  {
   "cell_type": "markdown",
   "metadata": {},
   "source": [
    "# Evaluation"
   ]
  },
  {
   "cell_type": "markdown",
   "metadata": {},
   "source": [
    "### Cross-validation"
   ]
  },
  {
   "cell_type": "code",
   "execution_count": 24,
   "metadata": {},
   "outputs": [],
   "source": [
    "from pyspark.ml.evaluation import MulticlassClassificationEvaluator"
   ]
  },
  {
   "cell_type": "code",
   "execution_count": 25,
   "metadata": {},
   "outputs": [
    {
     "name": "stdout",
     "output_type": "stream",
     "text": [
      "accuracy                       0.999486 \t 10.983000 seconds\n",
      "f1                             0.999457 \t 9.199000 seconds\n"
     ]
    }
   ],
   "source": [
    "evaluator = MulticlassClassificationEvaluator(labelCol='label',predictionCol='prediction')\n",
    "score={}\n",
    "# for metric in ['accuracy','f1','weightedPrecision','weightedRecall']:\n",
    "for metric in ['accuracy','f1']:\n",
    "    t0 = time()\n",
    "    score[metric] = evaluator.evaluate(dataset=test_result,params={evaluator.metricName:metric})\n",
    "    tt = time() -t0\n",
    "    print(\"%-*s %f \\t %f seconds\"%( 30 , metric, score[metric], round(tt,3)))\n",
    "    "
   ]
  },
  {
   "cell_type": "markdown",
   "metadata": {},
   "source": [
    "# Verification set"
   ]
  },
  {
   "cell_type": "code",
   "execution_count": 27,
   "metadata": {},
   "outputs": [],
   "source": [
    "corrected = spark.read.csv('Data/corrected.gz', header=None,schema=schema)\n",
    "\n",
    "# 攻击类型分类\n",
    "corrected = corrected.select(\n",
    "    *[function_attack2majorindex(column).alias('label') if column == 'label' else column for column in corrected.columns]\n",
    ")\n",
    "# 分类编码\n",
    "corrected_indexed = pipeline_stringindex_fitted.transform(corrected)\n",
    "\n",
    "# 划分 features vector 和 label\n",
    "corrected_set = featuresToVec(corrected_indexed)"
   ]
  },
  {
   "cell_type": "code",
   "execution_count": 28,
   "metadata": {},
   "outputs": [
    {
     "name": "stdout",
     "output_type": "stream",
     "text": [
      "Perdict in 0.03 seconds\n"
     ]
    }
   ],
   "source": [
    "t0 = time()\n",
    "corrected_result = rf_model.transform(corrected_set)\n",
    "tt = time() -t0\n",
    "print(\"Perdict in {} seconds\".format(round(tt,3)))"
   ]
  },
  {
   "cell_type": "code",
   "execution_count": 29,
   "metadata": {},
   "outputs": [
    {
     "name": "stdout",
     "output_type": "stream",
     "text": [
      "accuracy                       0.922721 \t 21.472000 seconds\n",
      "f1                             0.902644 \t 21.778000 seconds\n"
     ]
    }
   ],
   "source": [
    "evaluator = MulticlassClassificationEvaluator(labelCol='label',predictionCol='prediction')\n",
    "score_corrected={}\n",
    "# for metric in ['accuracy','weightedPrecision','weightedRecall','f1']:\n",
    "for metric in ['accuracy','f1']:\n",
    "    t0 = time()\n",
    "    score_corrected[metric] = evaluator.evaluate(dataset=corrected_result,params={evaluator.metricName:metric})\n",
    "    tt = time() -t0\n",
    "    print(\"%-*s %f \\t %f seconds\"%( 30 , metric, score_corrected[metric], round(tt,3)))"
   ]
  },
  {
   "cell_type": "markdown",
   "metadata": {},
   "source": [
    "# Confusion matrix"
   ]
  },
  {
   "cell_type": "code",
   "execution_count": 30,
   "metadata": {},
   "outputs": [],
   "source": [
    "import pandas as pd\n",
    "import numpy as np\n",
    "from sklearn.metrics import confusion_matrix\n",
    "import matplotlib.pyplot as plt"
   ]
  },
  {
   "cell_type": "code",
   "execution_count": 31,
   "metadata": {},
   "outputs": [],
   "source": [
    "# convert DF column to list\n",
    "def getListFromDF(df,colname):\n",
    "    tmp = df.select(colname).toPandas()\n",
    "    return tmp.iloc[:,0].values"
   ]
  },
  {
   "cell_type": "code",
   "execution_count": 32,
   "metadata": {},
   "outputs": [],
   "source": [
    "# Draw a confusion matrix based on the test result DF and output the score\n",
    "def drawFromDF(dataset):\n",
    "    true = getListFromDF(dataset,'label')\n",
    "    pred = getListFromDF(dataset,'prediction')\n",
    "    cm,plt = drawConfusionMatrix(true,pred,[0,1,2,3,4])\n",
    "    plt.show()\n",
    "    preAndRec(cm=cm,labels=[0,1,2,3,4])\n",
    "    return cm,true,pred"
   ]
  },
  {
   "cell_type": "code",
   "execution_count": 33,
   "metadata": {},
   "outputs": [
    {
     "data": {
      "image/png": "[encoded data removed]",
      "text/plain": [
       "<Figure size 288x288 with 2 Axes>"
      ]
     },
     "metadata": {
      "needs_background": "light"
     },
     "output_type": "display_data"
    },
    {
     "name": "stdout",
     "output_type": "stream",
     "text": [
      "------------------------------\n",
      "Precision:\n",
      "0 : \t 0.997728\n",
      "1 : \t 0.998802\n",
      "2 : \t 0.999937\n",
      "3 : \t 1.000000\n",
      "4 : \t 0.995025\n",
      "\n",
      "Recall:\n",
      "0 : \t 0.999948\n",
      "1 : \t 0.980024\n",
      "2 : \t 0.999937\n",
      "3 : \t 0.142857\n",
      "4 : \t 0.900901\n",
      "------------------------------\n"
     ]
    }
   ],
   "source": [
    "test_cm,test_true,test_pred = drawFromDF(dataset=test_result)"
   ]
  },
  {
   "cell_type": "code",
   "execution_count": 34,
   "metadata": {},
   "outputs": [
    {
     "data": {
      "image/png": "[encoded data removed]",
      "text/plain": [
       "<Figure size 288x288 with 2 Axes>"
      ]
     },
     "metadata": {
      "needs_background": "light"
     },
     "output_type": "display_data"
    },
    {
     "name": "stdout",
     "output_type": "stream",
     "text": [
      "------------------------------\n",
      "Precision:\n",
      "0 : \t 0.719006\n",
      "1 : \t 0.933011\n",
      "2 : \t 0.998941\n",
      "3 : \t 0.750000\n",
      "4 : \t 1.000000\n",
      "\n",
      "Recall:\n",
      "0 : \t 0.995594\n",
      "1 : \t 0.742199\n",
      "2 : \t 0.972221\n",
      "3 : \t 0.013158\n",
      "4 : \t 0.006424\n",
      "------------------------------\n"
     ]
    }
   ],
   "source": [
    "corrected_cm,corrected_true,corrected_pred = drawFromDF(dataset=corrected_result)"
   ]
  },
  {
   "cell_type": "code",
   "execution_count": null,
   "metadata": {},
   "outputs": [],
   "source": []
  }
 ],
 "metadata": {
  "kernelspec": {
   "display_name": "Python 3",
   "language": "python",
   "name": "python3"
  },
  "language_info": {
   "codemirror_mode": {
    "name": "ipython",
    "version": 3
   },
   "file_extension": ".py",
   "mimetype": "text/x-python",
   "name": "python",
   "nbconvert_exporter": "python",
   "pygments_lexer": "ipython3",
   "version": "3.7.3"
  }
 },
 "nbformat": 4,
 "nbformat_minor": 2
}
