{
 "cells": [
  {
   "cell_type": "code",
   "execution_count": 47,
   "metadata": {},
   "outputs": [],
   "source": [
    "import pyspark\n",
    "import findspark\n",
    "findspark.init()\n",
    "\n",
    "from pyspark.sql import SparkSession"
   ]
  },
  {
   "cell_type": "code",
   "execution_count": 48,
   "metadata": {},
   "outputs": [],
   "source": [
    "spark=SparkSession.builder.getOrCreate()"
   ]
  },
  {
   "cell_type": "code",
   "execution_count": 49,
   "metadata": {},
   "outputs": [
    {
     "name": "stdout",
     "output_type": "stream",
     "text": [
      "3.0.0-preview2\n"
     ]
    }
   ],
   "source": [
    "print(spark.version)"
   ]
  },
  {
   "cell_type": "code",
   "execution_count": 50,
   "metadata": {},
   "outputs": [],
   "source": [
    "##Preprocessing"
   ]
  },
  {
   "cell_type": "code",
   "execution_count": 51,
   "metadata": {},
   "outputs": [],
   "source": [
    "from pyspark.sql.types import StructType, StructField, IntegerType, StringType,DoubleType\n",
    "\n",
    "schema = StructType([StructField(\"duration\",IntegerType()),StructField(\"protocal_type\",StringType()),\n",
    "                     StructField(\"service\",StringType()),StructField(\"flat\",StringType()),StructField(\"src_bytes\",IntegerType()),\n",
    "    StructField(\"dst_bytes\",IntegerType()),StructField(\"land\",IntegerType()),StructField(\"wrong_fragment\",IntegerType()),\n",
    "    StructField(\"urgent\",IntegerType()),StructField(\"hot\",IntegerType()),StructField(\"num_failed_logins\",IntegerType()),\n",
    "    StructField(\"logged_in\",IntegerType()),StructField(\"num_compromised\",IntegerType()),StructField(\"root_shell\",IntegerType()),\n",
    "    StructField(\"su_attempted\",IntegerType()),StructField(\"num_root\",IntegerType()),\n",
    "    StructField(\"num_file_creations\",IntegerType()),StructField(\"num_shells\",IntegerType()),\n",
    "    StructField(\"num_access_files\",IntegerType()),StructField(\"num_outbound_cmds\",IntegerType()),\n",
    "    StructField(\"is_host_login\",IntegerType()),StructField(\"is_guest_login\",IntegerType()),StructField(\"count\",IntegerType()),\n",
    "    StructField(\"srv_count\",IntegerType()),StructField(\"serror_rate\",DoubleType()),\n",
    "    StructField(\"srv_serror_rate\",DoubleType()),StructField(\"rerror_rate\",DoubleType()),\n",
    "    StructField(\"srv_rerror_rate\",DoubleType()),StructField(\"same_srv_rate\",DoubleType()),\n",
    "    StructField(\"diff_srv_rate\",DoubleType()),StructField(\"srv_diff_host_rate\",DoubleType()),\n",
    "    StructField(\"dst_host_count\",IntegerType()),StructField(\"dst_host_srv_count\",IntegerType()),\n",
    "    StructField(\"dst_host_same_srv_rate\",DoubleType()),StructField(\"dst_host_diff_srv_rate\",DoubleType()),\n",
    "    StructField(\"dst_host_same_src_port_rate\",DoubleType()),\n",
    "    StructField(\"dst_host_srv_diff_host_rate\",DoubleType()),StructField(\"dst_host_serror_rate\",DoubleType()),\n",
    "    StructField(\"dst_host_srv_serror_rate\",DoubleType()),\n",
    "    StructField(\"dst_host_rerror_rate\",DoubleType()),StructField(\"dst_host_srv_rerror_rate\",DoubleType()),StructField(\"normal\",StringType())\n",
    "])"
   ]
  },
  {
   "cell_type": "code",
   "execution_count": 52,
   "metadata": {},
   "outputs": [
    {
     "name": "stdout",
     "output_type": "stream",
     "text": [
      "root\n",
      " |-- duration: integer (nullable = true)\n",
      " |-- protocal_type: string (nullable = true)\n",
      " |-- service: string (nullable = true)\n",
      " |-- flat: string (nullable = true)\n",
      " |-- src_bytes: integer (nullable = true)\n",
      " |-- dst_bytes: integer (nullable = true)\n",
      " |-- land: integer (nullable = true)\n",
      " |-- wrong_fragment: integer (nullable = true)\n",
      " |-- urgent: integer (nullable = true)\n",
      " |-- hot: integer (nullable = true)\n",
      " |-- num_failed_logins: integer (nullable = true)\n",
      " |-- logged_in: integer (nullable = true)\n",
      " |-- num_compromised: integer (nullable = true)\n",
      " |-- root_shell: integer (nullable = true)\n",
      " |-- su_attempted: integer (nullable = true)\n",
      " |-- num_root: integer (nullable = true)\n",
      " |-- num_file_creations: integer (nullable = true)\n",
      " |-- num_shells: integer (nullable = true)\n",
      " |-- num_access_files: integer (nullable = true)\n",
      " |-- num_outbound_cmds: integer (nullable = true)\n",
      " |-- is_host_login: integer (nullable = true)\n",
      " |-- is_guest_login: integer (nullable = true)\n",
      " |-- count: integer (nullable = true)\n",
      " |-- srv_count: integer (nullable = true)\n",
      " |-- serror_rate: double (nullable = true)\n",
      " |-- srv_serror_rate: double (nullable = true)\n",
      " |-- rerror_rate: double (nullable = true)\n",
      " |-- srv_rerror_rate: double (nullable = true)\n",
      " |-- same_srv_rate: double (nullable = true)\n",
      " |-- diff_srv_rate: double (nullable = true)\n",
      " |-- srv_diff_host_rate: double (nullable = true)\n",
      " |-- dst_host_count: integer (nullable = true)\n",
      " |-- dst_host_srv_count: integer (nullable = true)\n",
      " |-- dst_host_same_srv_rate: double (nullable = true)\n",
      " |-- dst_host_diff_srv_rate: double (nullable = true)\n",
      " |-- dst_host_same_src_port_rate: double (nullable = true)\n",
      " |-- dst_host_srv_diff_host_rate: double (nullable = true)\n",
      " |-- dst_host_serror_rate: double (nullable = true)\n",
      " |-- dst_host_srv_serror_rate: double (nullable = true)\n",
      " |-- dst_host_rerror_rate: double (nullable = true)\n",
      " |-- dst_host_srv_rerror_rate: double (nullable = true)\n",
      " |-- normal: string (nullable = true)\n",
      "\n"
     ]
    }
   ],
   "source": [
    "\n",
    "kdd=spark.read.csv(\"kddcup.data_10_percent\",header=False,schema=schema)\n",
    "kdd.printSchema()"
   ]
  },
  {
   "cell_type": "code",
   "execution_count": 53,
   "metadata": {},
   "outputs": [
    {
     "name": "stdout",
     "output_type": "stream",
     "text": [
      "The data contain 494021 records.\n"
     ]
    }
   ],
   "source": [
    "# Get number of records\n",
    "print(\"The data contain %d records.\" % kdd.count())"
   ]
  },
  {
   "cell_type": "code",
   "execution_count": 54,
   "metadata": {},
   "outputs": [],
   "source": [
    "#terminate spark\n",
    "#spark.stop()"
   ]
  },
  {
   "cell_type": "code",
   "execution_count": 55,
   "metadata": {},
   "outputs": [
    {
     "name": "stdout",
     "output_type": "stream",
     "text": [
      "+--------+-------------+-------+----+---------+---------+----+--------------+------+---+-----------------+---------+---------------+----------+------------+--------+------------------+----------+----------------+-----------------+-------------+--------------+-----+---------+-----------+---------------+-----------+---------------+-------------+-------------+------------------+--------------+------------------+----------------------+----------------------+---------------------------+---------------------------+--------------------+------------------------+--------------------+------------------------+-------+\n",
      "|duration|protocal_type|service|flat|src_bytes|dst_bytes|land|wrong_fragment|urgent|hot|num_failed_logins|logged_in|num_compromised|root_shell|su_attempted|num_root|num_file_creations|num_shells|num_access_files|num_outbound_cmds|is_host_login|is_guest_login|count|srv_count|serror_rate|srv_serror_rate|rerror_rate|srv_rerror_rate|same_srv_rate|diff_srv_rate|srv_diff_host_rate|dst_host_count|dst_host_srv_count|dst_host_same_srv_rate|dst_host_diff_srv_rate|dst_host_same_src_port_rate|dst_host_srv_diff_host_rate|dst_host_serror_rate|dst_host_srv_serror_rate|dst_host_rerror_rate|dst_host_srv_rerror_rate| normal|\n",
      "+--------+-------------+-------+----+---------+---------+----+--------------+------+---+-----------------+---------+---------------+----------+------------+--------+------------------+----------+----------------+-----------------+-------------+--------------+-----+---------+-----------+---------------+-----------+---------------+-------------+-------------+------------------+--------------+------------------+----------------------+----------------------+---------------------------+---------------------------+--------------------+------------------------+--------------------+------------------------+-------+\n",
      "|       0|          tcp|   http|  SF|      181|     5450|   0|             0|     0|  0|                0|        1|              0|         0|           0|       0|                 0|         0|               0|                0|            0|             0|    8|        8|        0.0|            0.0|        0.0|            0.0|          1.0|          0.0|               0.0|             9|                 9|                   1.0|                   0.0|                       0.11|                        0.0|                 0.0|                     0.0|                 0.0|                     0.0|normal.|\n",
      "|       0|          tcp|   http|  SF|      239|      486|   0|             0|     0|  0|                0|        1|              0|         0|           0|       0|                 0|         0|               0|                0|            0|             0|    8|        8|        0.0|            0.0|        0.0|            0.0|          1.0|          0.0|               0.0|            19|                19|                   1.0|                   0.0|                       0.05|                        0.0|                 0.0|                     0.0|                 0.0|                     0.0|normal.|\n",
      "|       0|          tcp|   http|  SF|      235|     1337|   0|             0|     0|  0|                0|        1|              0|         0|           0|       0|                 0|         0|               0|                0|            0|             0|    8|        8|        0.0|            0.0|        0.0|            0.0|          1.0|          0.0|               0.0|            29|                29|                   1.0|                   0.0|                       0.03|                        0.0|                 0.0|                     0.0|                 0.0|                     0.0|normal.|\n",
      "|       0|          tcp|   http|  SF|      219|     1337|   0|             0|     0|  0|                0|        1|              0|         0|           0|       0|                 0|         0|               0|                0|            0|             0|    6|        6|        0.0|            0.0|        0.0|            0.0|          1.0|          0.0|               0.0|            39|                39|                   1.0|                   0.0|                       0.03|                        0.0|                 0.0|                     0.0|                 0.0|                     0.0|normal.|\n",
      "|       0|          tcp|   http|  SF|      217|     2032|   0|             0|     0|  0|                0|        1|              0|         0|           0|       0|                 0|         0|               0|                0|            0|             0|    6|        6|        0.0|            0.0|        0.0|            0.0|          1.0|          0.0|               0.0|            49|                49|                   1.0|                   0.0|                       0.02|                        0.0|                 0.0|                     0.0|                 0.0|                     0.0|normal.|\n",
      "+--------+-------------+-------+----+---------+---------+----+--------------+------+---+-----------------+---------+---------------+----------+------------+--------+------------------+----------+----------------+-----------------+-------------+--------------+-----+---------+-----------+---------------+-----------+---------------+-------------+-------------+------------------+--------------+------------------+----------------------+----------------------+---------------------------+---------------------------+--------------------+------------------------+--------------------+------------------------+-------+\n",
      "only showing top 5 rows\n",
      "\n"
     ]
    }
   ],
   "source": [
    "# View the first five records\n",
    "kdd.show(5)"
   ]
  },
  {
   "cell_type": "code",
   "execution_count": 56,
   "metadata": {},
   "outputs": [
    {
     "data": {
      "text/plain": [
       "[('duration', 'int'),\n",
       " ('protocal_type', 'string'),\n",
       " ('service', 'string'),\n",
       " ('flat', 'string'),\n",
       " ('src_bytes', 'int'),\n",
       " ('dst_bytes', 'int'),\n",
       " ('land', 'int'),\n",
       " ('wrong_fragment', 'int'),\n",
       " ('urgent', 'int'),\n",
       " ('hot', 'int'),\n",
       " ('num_failed_logins', 'int'),\n",
       " ('logged_in', 'int'),\n",
       " ('num_compromised', 'int'),\n",
       " ('root_shell', 'int'),\n",
       " ('su_attempted', 'int'),\n",
       " ('num_root', 'int'),\n",
       " ('num_file_creations', 'int'),\n",
       " ('num_shells', 'int'),\n",
       " ('num_access_files', 'int'),\n",
       " ('num_outbound_cmds', 'int'),\n",
       " ('is_host_login', 'int'),\n",
       " ('is_guest_login', 'int'),\n",
       " ('count', 'int'),\n",
       " ('srv_count', 'int'),\n",
       " ('serror_rate', 'double'),\n",
       " ('srv_serror_rate', 'double'),\n",
       " ('rerror_rate', 'double'),\n",
       " ('srv_rerror_rate', 'double'),\n",
       " ('same_srv_rate', 'double'),\n",
       " ('diff_srv_rate', 'double'),\n",
       " ('srv_diff_host_rate', 'double'),\n",
       " ('dst_host_count', 'int'),\n",
       " ('dst_host_srv_count', 'int'),\n",
       " ('dst_host_same_srv_rate', 'double'),\n",
       " ('dst_host_diff_srv_rate', 'double'),\n",
       " ('dst_host_same_src_port_rate', 'double'),\n",
       " ('dst_host_srv_diff_host_rate', 'double'),\n",
       " ('dst_host_serror_rate', 'double'),\n",
       " ('dst_host_srv_serror_rate', 'double'),\n",
       " ('dst_host_rerror_rate', 'double'),\n",
       " ('dst_host_srv_rerror_rate', 'double'),\n",
       " ('normal', 'string')]"
      ]
     },
     "execution_count": 56,
     "metadata": {},
     "output_type": "execute_result"
    }
   ],
   "source": [
    "#check column data types\n",
    "kdd.dtypes"
   ]
  },
  {
   "cell_type": "code",
   "execution_count": 57,
   "metadata": {},
   "outputs": [
    {
     "name": "stdout",
     "output_type": "stream",
     "text": [
      "494021\n"
     ]
    }
   ],
   "source": [
    "# Remove records with missing values in any column and get the number of remaining rows\n",
    "kdd_none_missing = kdd.dropna()\n",
    "print(kdd.count())\n",
    "#It is equal to the previous value, which means that there isn'n any missing value"
   ]
  },
  {
   "cell_type": "code",
   "execution_count": 58,
   "metadata": {},
   "outputs": [],
   "source": [
    "# transform the categorical data into indexed numerical values.\n",
    "from pyspark.ml.feature import StringIndexer\n",
    "\n",
    "# Create an indexer\n",
    "indexer = StringIndexer(inputCol='protocal_type', outputCol='protocal_type_idx')\n",
    "\n",
    "# Indexer identifies categories in the data\n",
    "indexer_model = indexer.fit(kdd)\n",
    "\n",
    "# Indexer creates a new column with numeric index values\n",
    "kdd_indexed = indexer_model.transform(kdd)\n",
    "\n",
    "# Repeat the process for the other categorical feature\n",
    "kdd_indexed = StringIndexer(inputCol='service', outputCol='service_idx').fit(kdd_indexed).transform(kdd_indexed)\n",
    "kdd_indexed = StringIndexer(inputCol='flat', outputCol='flat_idx').fit(kdd_indexed).transform(kdd_indexed)\n"
   ]
  },
  {
   "cell_type": "code",
   "execution_count": 59,
   "metadata": {},
   "outputs": [
    {
     "name": "stdout",
     "output_type": "stream",
     "text": [
      "+-------------+-----------------+-------------------+\n",
      "|protocal_type|protocal_type_idx|protocal_type_dummy|\n",
      "+-------------+-----------------+-------------------+\n",
      "|         icmp|              0.0|      (2,[0],[1.0])|\n",
      "|          tcp|              1.0|      (2,[1],[1.0])|\n",
      "|          udp|              2.0|          (2,[],[])|\n",
      "+-------------+-----------------+-------------------+\n",
      "\n"
     ]
    }
   ],
   "source": [
    "# Import the one hot encoder class\n",
    "from pyspark.ml.feature import OneHotEncoder\n",
    "\n",
    "# Create an instance of the one hot encoder\n",
    "onehot = OneHotEncoder(inputCols=['protocal_type_idx'], outputCols=['protocal_type_dummy'])\n",
    "\n",
    "# Apply the one hot encoder to the flights data\n",
    "onehot = onehot.fit(kdd_indexed)\n",
    "kdd_onehot = onehot.transform(kdd_indexed)\n",
    "\n",
    "# Check the results\n",
    "kdd_onehot.select('protocal_type', 'protocal_type_idx', 'protocal_type_dummy').distinct().sort('protocal_type_idx').show()"
   ]
  },
  {
   "cell_type": "code",
   "execution_count": 60,
   "metadata": {},
   "outputs": [],
   "source": [
    "# Repeat the process for the other categorical feature\n",
    "kdd_onehot=OneHotEncoder(inputCols=['service_idx'],outputCols=['service_dummy']).fit(kdd_onehot).transform(kdd_onehot)\n",
    "kdd_onehot=OneHotEncoder(inputCols=['flat_idx'],outputCols=['flat_dummy']).fit(kdd_onehot).transform(kdd_onehot)"
   ]
  },
  {
   "cell_type": "code",
   "execution_count": 61,
   "metadata": {},
   "outputs": [
    {
     "name": "stdout",
     "output_type": "stream",
     "text": [
      "+--------+-------------+-------+----+---------+---------+----+--------------+------+---+-----------------+---------+---------------+----------+------------+--------+------------------+----------+----------------+-----------------+-------------+--------------+-----+---------+-----------+---------------+-----------+---------------+-------------+-------------+------------------+--------------+------------------+----------------------+----------------------+---------------------------+---------------------------+--------------------+------------------------+--------------------+------------------------+-------+-----------------+-----------+--------+-------------------+--------------+--------------+\n",
      "|duration|protocal_type|service|flat|src_bytes|dst_bytes|land|wrong_fragment|urgent|hot|num_failed_logins|logged_in|num_compromised|root_shell|su_attempted|num_root|num_file_creations|num_shells|num_access_files|num_outbound_cmds|is_host_login|is_guest_login|count|srv_count|serror_rate|srv_serror_rate|rerror_rate|srv_rerror_rate|same_srv_rate|diff_srv_rate|srv_diff_host_rate|dst_host_count|dst_host_srv_count|dst_host_same_srv_rate|dst_host_diff_srv_rate|dst_host_same_src_port_rate|dst_host_srv_diff_host_rate|dst_host_serror_rate|dst_host_srv_serror_rate|dst_host_rerror_rate|dst_host_srv_rerror_rate| normal|protocal_type_idx|service_idx|flat_idx|protocal_type_dummy| service_dummy|    flat_dummy|\n",
      "+--------+-------------+-------+----+---------+---------+----+--------------+------+---+-----------------+---------+---------------+----------+------------+--------+------------------+----------+----------------+-----------------+-------------+--------------+-----+---------+-----------+---------------+-----------+---------------+-------------+-------------+------------------+--------------+------------------+----------------------+----------------------+---------------------------+---------------------------+--------------------+------------------------+--------------------+------------------------+-------+-----------------+-----------+--------+-------------------+--------------+--------------+\n",
      "|       0|          tcp|   http|  SF|      181|     5450|   0|             0|     0|  0|                0|        1|              0|         0|           0|       0|                 0|         0|               0|                0|            0|             0|    8|        8|        0.0|            0.0|        0.0|            0.0|          1.0|          0.0|               0.0|             9|                 9|                   1.0|                   0.0|                       0.11|                        0.0|                 0.0|                     0.0|                 0.0|                     0.0|normal.|              1.0|        2.0|     0.0|      (2,[1],[1.0])|(65,[2],[1.0])|(10,[0],[1.0])|\n",
      "|       0|          tcp|   http|  SF|      239|      486|   0|             0|     0|  0|                0|        1|              0|         0|           0|       0|                 0|         0|               0|                0|            0|             0|    8|        8|        0.0|            0.0|        0.0|            0.0|          1.0|          0.0|               0.0|            19|                19|                   1.0|                   0.0|                       0.05|                        0.0|                 0.0|                     0.0|                 0.0|                     0.0|normal.|              1.0|        2.0|     0.0|      (2,[1],[1.0])|(65,[2],[1.0])|(10,[0],[1.0])|\n",
      "|       0|          tcp|   http|  SF|      235|     1337|   0|             0|     0|  0|                0|        1|              0|         0|           0|       0|                 0|         0|               0|                0|            0|             0|    8|        8|        0.0|            0.0|        0.0|            0.0|          1.0|          0.0|               0.0|            29|                29|                   1.0|                   0.0|                       0.03|                        0.0|                 0.0|                     0.0|                 0.0|                     0.0|normal.|              1.0|        2.0|     0.0|      (2,[1],[1.0])|(65,[2],[1.0])|(10,[0],[1.0])|\n",
      "|       0|          tcp|   http|  SF|      219|     1337|   0|             0|     0|  0|                0|        1|              0|         0|           0|       0|                 0|         0|               0|                0|            0|             0|    6|        6|        0.0|            0.0|        0.0|            0.0|          1.0|          0.0|               0.0|            39|                39|                   1.0|                   0.0|                       0.03|                        0.0|                 0.0|                     0.0|                 0.0|                     0.0|normal.|              1.0|        2.0|     0.0|      (2,[1],[1.0])|(65,[2],[1.0])|(10,[0],[1.0])|\n",
      "|       0|          tcp|   http|  SF|      217|     2032|   0|             0|     0|  0|                0|        1|              0|         0|           0|       0|                 0|         0|               0|                0|            0|             0|    6|        6|        0.0|            0.0|        0.0|            0.0|          1.0|          0.0|               0.0|            49|                49|                   1.0|                   0.0|                       0.02|                        0.0|                 0.0|                     0.0|                 0.0|                     0.0|normal.|              1.0|        2.0|     0.0|      (2,[1],[1.0])|(65,[2],[1.0])|(10,[0],[1.0])|\n",
      "+--------+-------------+-------+----+---------+---------+----+--------------+------+---+-----------------+---------+---------------+----------+------------+--------+------------------+----------+----------------+-----------------+-------------+--------------+-----+---------+-----------+---------------+-----------+---------------+-------------+-------------+------------------+--------------+------------------+----------------------+----------------------+---------------------------+---------------------------+--------------------+------------------------+--------------------+------------------------+-------+-----------------+-----------+--------+-------------------+--------------+--------------+\n",
      "only showing top 5 rows\n",
      "\n"
     ]
    }
   ],
   "source": [
    "kdd_onehot.show(5)"
   ]
  },
  {
   "cell_type": "code",
   "execution_count": 62,
   "metadata": {},
   "outputs": [
    {
     "name": "stdout",
     "output_type": "stream",
     "text": [
      "+--------+-------------+-------+----+---------+---------+----+--------------+------+---+-----------------+---------+---------------+----------+------------+--------+------------------+----------+----------------+-----------------+-------------+--------------+-----+---------+-----------+---------------+-----------+---------------+-------------+-------------+------------------+--------------+------------------+----------------------+----------------------+---------------------------+---------------------------+--------------------+------------------------+--------------------+------------------------+-------+-----------------+-----------+--------+-------------------+--------------+--------------+-----+\n",
      "|duration|protocal_type|service|flat|src_bytes|dst_bytes|land|wrong_fragment|urgent|hot|num_failed_logins|logged_in|num_compromised|root_shell|su_attempted|num_root|num_file_creations|num_shells|num_access_files|num_outbound_cmds|is_host_login|is_guest_login|count|srv_count|serror_rate|srv_serror_rate|rerror_rate|srv_rerror_rate|same_srv_rate|diff_srv_rate|srv_diff_host_rate|dst_host_count|dst_host_srv_count|dst_host_same_srv_rate|dst_host_diff_srv_rate|dst_host_same_src_port_rate|dst_host_srv_diff_host_rate|dst_host_serror_rate|dst_host_srv_serror_rate|dst_host_rerror_rate|dst_host_srv_rerror_rate| normal|protocal_type_idx|service_idx|flat_idx|protocal_type_dummy| service_dummy|    flat_dummy|label|\n",
      "+--------+-------------+-------+----+---------+---------+----+--------------+------+---+-----------------+---------+---------------+----------+------------+--------+------------------+----------+----------------+-----------------+-------------+--------------+-----+---------+-----------+---------------+-----------+---------------+-------------+-------------+------------------+--------------+------------------+----------------------+----------------------+---------------------------+---------------------------+--------------------+------------------------+--------------------+------------------------+-------+-----------------+-----------+--------+-------------------+--------------+--------------+-----+\n",
      "|       0|          tcp|   http|  SF|      181|     5450|   0|             0|     0|  0|                0|        1|              0|         0|           0|       0|                 0|         0|               0|                0|            0|             0|    8|        8|        0.0|            0.0|        0.0|            0.0|          1.0|          0.0|               0.0|             9|                 9|                   1.0|                   0.0|                       0.11|                        0.0|                 0.0|                     0.0|                 0.0|                     0.0|normal.|              1.0|        2.0|     0.0|      (2,[1],[1.0])|(65,[2],[1.0])|(10,[0],[1.0])|    0|\n",
      "|       0|          tcp|   http|  SF|      239|      486|   0|             0|     0|  0|                0|        1|              0|         0|           0|       0|                 0|         0|               0|                0|            0|             0|    8|        8|        0.0|            0.0|        0.0|            0.0|          1.0|          0.0|               0.0|            19|                19|                   1.0|                   0.0|                       0.05|                        0.0|                 0.0|                     0.0|                 0.0|                     0.0|normal.|              1.0|        2.0|     0.0|      (2,[1],[1.0])|(65,[2],[1.0])|(10,[0],[1.0])|    0|\n",
      "|       0|          tcp|   http|  SF|      235|     1337|   0|             0|     0|  0|                0|        1|              0|         0|           0|       0|                 0|         0|               0|                0|            0|             0|    8|        8|        0.0|            0.0|        0.0|            0.0|          1.0|          0.0|               0.0|            29|                29|                   1.0|                   0.0|                       0.03|                        0.0|                 0.0|                     0.0|                 0.0|                     0.0|normal.|              1.0|        2.0|     0.0|      (2,[1],[1.0])|(65,[2],[1.0])|(10,[0],[1.0])|    0|\n",
      "|       0|          tcp|   http|  SF|      219|     1337|   0|             0|     0|  0|                0|        1|              0|         0|           0|       0|                 0|         0|               0|                0|            0|             0|    6|        6|        0.0|            0.0|        0.0|            0.0|          1.0|          0.0|               0.0|            39|                39|                   1.0|                   0.0|                       0.03|                        0.0|                 0.0|                     0.0|                 0.0|                     0.0|normal.|              1.0|        2.0|     0.0|      (2,[1],[1.0])|(65,[2],[1.0])|(10,[0],[1.0])|    0|\n",
      "|       0|          tcp|   http|  SF|      217|     2032|   0|             0|     0|  0|                0|        1|              0|         0|           0|       0|                 0|         0|               0|                0|            0|             0|    6|        6|        0.0|            0.0|        0.0|            0.0|          1.0|          0.0|               0.0|            49|                49|                   1.0|                   0.0|                       0.02|                        0.0|                 0.0|                     0.0|                 0.0|                     0.0|normal.|              1.0|        2.0|     0.0|      (2,[1],[1.0])|(65,[2],[1.0])|(10,[0],[1.0])|    0|\n",
      "+--------+-------------+-------+----+---------+---------+----+--------------+------+---+-----------------+---------+---------------+----------+------------+--------+------------------+----------+----------------+-----------------+-------------+--------------+-----+---------+-----------+---------------+-----------+---------------+-------------+-------------+------------------+--------------+------------------+----------------------+----------------------+---------------------------+---------------------------+--------------------+------------------------+--------------------+------------------------+-------+-----------------+-----------+--------+-------------------+--------------+--------------+-----+\n",
      "only showing top 5 rows\n",
      "\n"
     ]
    },
    {
     "data": {
      "text/plain": [
       "<bound method DataFrame.count of DataFrame[duration: int, protocal_type: string, service: string, flat: string, src_bytes: int, dst_bytes: int, land: int, wrong_fragment: int, urgent: int, hot: int, num_failed_logins: int, logged_in: int, num_compromised: int, root_shell: int, su_attempted: int, num_root: int, num_file_creations: int, num_shells: int, num_access_files: int, num_outbound_cmds: int, is_host_login: int, is_guest_login: int, count: int, srv_count: int, serror_rate: double, srv_serror_rate: double, rerror_rate: double, srv_rerror_rate: double, same_srv_rate: double, diff_srv_rate: double, srv_diff_host_rate: double, dst_host_count: int, dst_host_srv_count: int, dst_host_same_srv_rate: double, dst_host_diff_srv_rate: double, dst_host_same_src_port_rate: double, dst_host_srv_diff_host_rate: double, dst_host_serror_rate: double, dst_host_srv_serror_rate: double, dst_host_rerror_rate: double, dst_host_srv_rerror_rate: double, normal: string, protocal_type_idx: double, service_idx: double, flat_idx: double, protocal_type_dummy: vector, service_dummy: vector, flat_dummy: vector, label: int]>"
      ]
     },
     "execution_count": 62,
     "metadata": {},
     "output_type": "execute_result"
    }
   ],
   "source": [
    "# Create 'label' column indicating whether kdd are normal (1) or not (0)\n",
    "kdd = kdd_onehot.withColumn('label', (kdd[\"normal\"]!=\"normal.\").cast('int'))\n",
    "kdd.show(5)\n",
    "kdd.count"
   ]
  },
  {
   "cell_type": "code",
   "execution_count": 63,
   "metadata": {},
   "outputs": [
    {
     "name": "stdout",
     "output_type": "stream",
     "text": [
      "+----------------------------------------------------------------------------------------------------------+-------+\n",
      "|features                                                                                                  |normal |\n",
      "+----------------------------------------------------------------------------------------------------------+-------+\n",
      "|(115,[1,2,8,19,20,25,28,29,30,32,39,42,105],[181.0,5450.0,1.0,8.0,8.0,1.0,9.0,9.0,1.0,0.11,1.0,1.0,1.0])  |normal.|\n",
      "|(115,[1,2,8,19,20,25,28,29,30,32,39,42,105],[239.0,486.0,1.0,8.0,8.0,1.0,19.0,19.0,1.0,0.05,1.0,1.0,1.0]) |normal.|\n",
      "|(115,[1,2,8,19,20,25,28,29,30,32,39,42,105],[235.0,1337.0,1.0,8.0,8.0,1.0,29.0,29.0,1.0,0.03,1.0,1.0,1.0])|normal.|\n",
      "|(115,[1,2,8,19,20,25,28,29,30,32,39,42,105],[219.0,1337.0,1.0,6.0,6.0,1.0,39.0,39.0,1.0,0.03,1.0,1.0,1.0])|normal.|\n",
      "|(115,[1,2,8,19,20,25,28,29,30,32,39,42,105],[217.0,2032.0,1.0,6.0,6.0,1.0,49.0,49.0,1.0,0.02,1.0,1.0,1.0])|normal.|\n",
      "+----------------------------------------------------------------------------------------------------------+-------+\n",
      "only showing top 5 rows\n",
      "\n"
     ]
    }
   ],
   "source": [
    "#Finally,consolidate all of the predictor columns into a single column\n",
    "# Import the necessary class\n",
    "from pyspark.ml.feature import VectorAssembler\n",
    "\n",
    "# Create an assembler object\n",
    "assembler = VectorAssembler(inputCols=[\n",
    "    \"duration\",\"src_bytes\",\n",
    "    \"dst_bytes\",\"land\",\"wrong_fragment\",\"urgent\",\"hot\",\"num_failed_logins\",\n",
    "    \"logged_in\",\"num_compromised\",\"root_shell\",\"su_attempted\",\"num_root\",\n",
    "    \"num_file_creations\",\"num_shells\",\"num_access_files\",\"num_outbound_cmds\",\n",
    "    \"is_host_login\",\"is_guest_login\",\"count\",\"srv_count\",\"serror_rate\",\n",
    "    \"srv_serror_rate\",\"rerror_rate\",\"srv_rerror_rate\",\"same_srv_rate\",\n",
    "    \"diff_srv_rate\",\"srv_diff_host_rate\",\"dst_host_count\",\"dst_host_srv_count\",\n",
    "    \"dst_host_same_srv_rate\",\"dst_host_diff_srv_rate\",\"dst_host_same_src_port_rate\",\n",
    "    \"dst_host_srv_diff_host_rate\",\"dst_host_serror_rate\",\"dst_host_srv_serror_rate\",\n",
    "    \"dst_host_rerror_rate\",\"dst_host_srv_rerror_rate\",\"protocal_type_dummy\",\n",
    "    \"service_dummy\",\"flat_dummy\"\n",
    "], outputCol='features')\n",
    "\n",
    "# Consolidate predictor columns\n",
    "kdd_assembled = assembler.transform(kdd)\n",
    "\n",
    "# Check the resulting column\n",
    "kdd_assembled.select('features', 'normal').show(5, truncate=False)"
   ]
  },
  {
   "cell_type": "code",
   "execution_count": 64,
   "metadata": {},
   "outputs": [],
   "source": [
    "##Machine Learning"
   ]
  },
  {
   "cell_type": "code",
   "execution_count": 65,
   "metadata": {},
   "outputs": [
    {
     "name": "stdout",
     "output_type": "stream",
     "text": [
      "0.7998728798978181\n"
     ]
    }
   ],
   "source": [
    "# Split into training and testing sets in a 80:20 ratio\n",
    "kdd_train, kdd_test = kdd_assembled.randomSplit([0.8, 0.2], seed=17)\n",
    "\n",
    "# Check that training set has around 80% of records\n",
    "training_ratio = kdd_train.count() / kdd.count()\n",
    "print(training_ratio)"
   ]
  },
  {
   "cell_type": "code",
   "execution_count": 66,
   "metadata": {},
   "outputs": [
    {
     "name": "stdout",
     "output_type": "stream",
     "text": [
      "+--------+-------------+-------+----+---------+---------+----+--------------+------+---+-----------------+---------+---------------+----------+------------+--------+------------------+----------+----------------+-----------------+-------------+--------------+-----+---------+-----------+---------------+-----------+---------------+-------------+-------------+------------------+--------------+------------------+----------------------+----------------------+---------------------------+---------------------------+--------------------+------------------------+--------------------+------------------------+--------+-----------------+-----------+--------+-------------------+--------------+--------------+-----+--------------------+\n",
      "|duration|protocal_type|service|flat|src_bytes|dst_bytes|land|wrong_fragment|urgent|hot|num_failed_logins|logged_in|num_compromised|root_shell|su_attempted|num_root|num_file_creations|num_shells|num_access_files|num_outbound_cmds|is_host_login|is_guest_login|count|srv_count|serror_rate|srv_serror_rate|rerror_rate|srv_rerror_rate|same_srv_rate|diff_srv_rate|srv_diff_host_rate|dst_host_count|dst_host_srv_count|dst_host_same_srv_rate|dst_host_diff_srv_rate|dst_host_same_src_port_rate|dst_host_srv_diff_host_rate|dst_host_serror_rate|dst_host_srv_serror_rate|dst_host_rerror_rate|dst_host_srv_rerror_rate|  normal|protocal_type_idx|service_idx|flat_idx|protocal_type_dummy| service_dummy|    flat_dummy|label|            features|\n",
      "+--------+-------------+-------+----+---------+---------+----+--------------+------+---+-----------------+---------+---------------+----------+------------+--------+------------------+----------+----------------+-----------------+-------------+--------------+-----+---------+-----------+---------------+-----------+---------------+-------------+-------------+------------------+--------------+------------------+----------------------+----------------------+---------------------------+---------------------------+--------------------+------------------------+--------------------+------------------------+--------+-----------------+-----------+--------+-------------------+--------------+--------------+-----+--------------------+\n",
      "|       0|         icmp|  eco_i|  SF|        8|        0|   0|             0|     0|  0|                0|        0|              0|         0|           0|       0|                 0|         0|               0|                0|            0|             0|    1|        1|        0.0|            0.0|        0.0|            0.0|          1.0|          0.0|               0.0|             1|               255|                   1.0|                   0.0|                        1.0|                        0.5|                 0.0|                     0.0|                 0.0|                     0.0|ipsweep.|              0.0|        7.0|     0.0|      (2,[0],[1.0])|(65,[7],[1.0])|(10,[0],[1.0])|    1|(115,[1,19,20,25,...|\n",
      "|       0|         icmp|  eco_i|  SF|        8|        0|   0|             0|     0|  0|                0|        0|              0|         0|           0|       0|                 0|         0|               0|                0|            0|             0|    1|        1|        0.0|            0.0|        0.0|            0.0|          1.0|          0.0|               0.0|             1|               255|                   1.0|                   0.0|                        1.0|                        0.5|                 0.0|                     0.0|                 0.0|                     0.0|ipsweep.|              0.0|        7.0|     0.0|      (2,[0],[1.0])|(65,[7],[1.0])|(10,[0],[1.0])|    1|(115,[1,19,20,25,...|\n",
      "|       0|         icmp|  eco_i|  SF|        8|        0|   0|             0|     0|  0|                0|        0|              0|         0|           0|       0|                 0|         0|               0|                0|            0|             0|    1|        1|        0.0|            0.0|        0.0|            0.0|          1.0|          0.0|               0.0|             1|               255|                   1.0|                   0.0|                        1.0|                        0.5|                 0.0|                     0.0|                 0.0|                     0.0|ipsweep.|              0.0|        7.0|     0.0|      (2,[0],[1.0])|(65,[7],[1.0])|(10,[0],[1.0])|    1|(115,[1,19,20,25,...|\n",
      "|       0|         icmp|  eco_i|  SF|        8|        0|   0|             0|     0|  0|                0|        0|              0|         0|           0|       0|                 0|         0|               0|                0|            0|             0|    1|        1|        0.0|            0.0|        0.0|            0.0|          1.0|          0.0|               0.0|             1|               255|                   1.0|                   0.0|                        1.0|                        0.5|                 0.0|                     0.0|                 0.0|                     0.0|ipsweep.|              0.0|        7.0|     0.0|      (2,[0],[1.0])|(65,[7],[1.0])|(10,[0],[1.0])|    1|(115,[1,19,20,25,...|\n",
      "|       0|         icmp|  eco_i|  SF|        8|        0|   0|             0|     0|  0|                0|        0|              0|         0|           0|       0|                 0|         0|               0|                0|            0|             0|    1|        1|        0.0|            0.0|        0.0|            0.0|          1.0|          0.0|               0.0|             1|               255|                   1.0|                   0.0|                        1.0|                        0.5|                 0.0|                     0.0|                 0.0|                     0.0|ipsweep.|              0.0|        7.0|     0.0|      (2,[0],[1.0])|(65,[7],[1.0])|(10,[0],[1.0])|    1|(115,[1,19,20,25,...|\n",
      "+--------+-------------+-------+----+---------+---------+----+--------------+------+---+-----------------+---------+---------------+----------+------------+--------+------------------+----------+----------------+-----------------+-------------+--------------+-----+---------+-----------+---------------+-----------+---------------+-------------+-------------+------------------+--------------+------------------+----------------------+----------------------+---------------------------+---------------------------+--------------------+------------------------+--------------------+------------------------+--------+-----------------+-----------+--------+-------------------+--------------+--------------+-----+--------------------+\n",
      "only showing top 5 rows\n",
      "\n"
     ]
    }
   ],
   "source": [
    "kdd_train.show(5)"
   ]
  },
  {
   "cell_type": "code",
   "execution_count": 67,
   "metadata": {},
   "outputs": [],
   "source": [
    "##Decision Tree"
   ]
  },
  {
   "cell_type": "code",
   "execution_count": 68,
   "metadata": {},
   "outputs": [
    {
     "name": "stdout",
     "output_type": "stream",
     "text": [
      "CPU times: user 859 ms, sys: 255 ms, total: 1.11 s\n",
      "Wall time: 1min 20s\n"
     ]
    }
   ],
   "source": [
    "%%time\n",
    "\n",
    "# Import the Decision Tree Classifier class\n",
    "from pyspark.ml.classification import DecisionTreeClassifier\n",
    "from pyspark.ml.tuning import CrossValidator,ParamGridBuilder\n",
    "from pyspark.ml.evaluation import BinaryClassificationEvaluator\n",
    "import numpy as np\n",
    "\n",
    "# Create a classifier object and fit to the training data\n",
    "tree = DecisionTreeClassifier(labelCol=\"label\")\n",
    "\n",
    "#grid search\n",
    "params_tree = ParamGridBuilder()\n",
    "params_tree=params_tree.addGrid(tree.maxDepth, [int(x) for x in np.linspace(start = 10, stop = 30, num = 5)]) \\\n",
    "    .addGrid(tree.maxBins, [20, 60]) \\\n",
    "    .build()\n",
    "\n",
    "#the evaluator of the model\n",
    "evaluator_tree = BinaryClassificationEvaluator()\n",
    "\n",
    "#act cross-validation\n",
    "cv_tree = CrossValidator(estimator=tree,\n",
    "estimatorParamMaps=params_tree,\n",
    "evaluator=evaluator_tree,\n",
    "numFolds=2, seed=13)\n",
    "\n",
    "tree_model = cv_tree.fit(kdd_train)\n"
   ]
  },
  {
   "cell_type": "code",
   "execution_count": 69,
   "metadata": {},
   "outputs": [
    {
     "name": "stdout",
     "output_type": "stream",
     "text": [
      "+-----+----------+-----------+\n",
      "|label|prediction|probability|\n",
      "+-----+----------+-----------+\n",
      "|1    |1.0       |[0.0,1.0]  |\n",
      "|1    |1.0       |[0.0,1.0]  |\n",
      "|1    |1.0       |[0.0,1.0]  |\n",
      "|1    |1.0       |[0.0,1.0]  |\n",
      "|1    |1.0       |[0.0,1.0]  |\n",
      "+-----+----------+-----------+\n",
      "only showing top 5 rows\n",
      "\n"
     ]
    }
   ],
   "source": [
    "# Create predictions for the testing data and take a look at the predictions\n",
    "prediction_tree = tree_model.transform(kdd_test)\n",
    "prediction_tree.select('label', 'prediction', 'probability').show(5, False)"
   ]
  },
  {
   "cell_type": "code",
   "execution_count": 70,
   "metadata": {},
   "outputs": [
    {
     "name": "stdout",
     "output_type": "stream",
     "text": [
      "+-----+----------+-----+\n",
      "|label|prediction|count|\n",
      "+-----+----------+-----+\n",
      "|    1|       0.0|   16|\n",
      "|    0|       0.0|19480|\n",
      "|    1|       1.0|79351|\n",
      "|    0|       1.0|   20|\n",
      "+-----+----------+-----+\n",
      "\n",
      "0.9996358744576047\n"
     ]
    }
   ],
   "source": [
    "# Create a confusion matrix\n",
    "prediction_tree.groupBy('label', 'prediction').count().show()\n",
    "\n",
    "# Calculate the elements of the confusion matrix\n",
    "TN_tree = prediction_tree.filter('prediction = 0 AND label = prediction').count()\n",
    "TP_tree = prediction_tree.filter('prediction = 1 AND label = prediction').count()\n",
    "FN_tree = prediction_tree.filter('prediction = 0 AND label != prediction').count()\n",
    "FP_tree = prediction_tree.filter('prediction = 1 AND label != prediction').count()\n",
    "\n",
    "# Accuracy measures the proportion of correct predictions\n",
    "accuracy_tree = (TN_tree + TP_tree) / (TN_tree + TP_tree + FN_tree + FP_tree)\n",
    "print(accuracy_tree)"
   ]
  },
  {
   "cell_type": "code",
   "execution_count": 71,
   "metadata": {},
   "outputs": [],
   "source": [
    "##Random Forest"
   ]
  },
  {
   "cell_type": "code",
   "execution_count": 74,
   "metadata": {},
   "outputs": [
    {
     "name": "stdout",
     "output_type": "stream",
     "text": [
      "CPU times: user 723 ms, sys: 193 ms, total: 916 ms\n",
      "Wall time: 3min 33s\n"
     ]
    }
   ],
   "source": [
    "%%time\n",
    "\n",
    "# Import the Random Forest Classifier class\n",
    "from pyspark.ml.classification import RandomForestClassifier\n",
    "from pyspark.ml.evaluation import MulticlassClassificationEvaluator\n",
    "\n",
    "# Create a classifier object and fit to the training data\n",
    "rf= RandomForestClassifier(labelCol=\"label\")\n",
    "\n",
    "#grid search\n",
    "params_rf = ParamGridBuilder()\n",
    "params_rf=params_rf.addGrid(rf.numTrees, [int(x) for x in np.linspace(start = 10, stop = 50, num = 3)]) \\\n",
    "    .addGrid(rf.maxDepth, [int(x) for x in np.linspace(start = 5, stop = 25, num = 3)]) \\\n",
    "    .build()\n",
    "\n",
    "#the evaluator of the model\n",
    "evaluator = BinaryClassificationEvaluator()\n",
    "\n",
    "#act cross-validation\n",
    "cv_rf = CrossValidator(estimator=rf,\n",
    "estimatorParamMaps=params_rf,\n",
    "evaluator=evaluator,\n",
    "numFolds=2, seed=13)\n",
    "\n",
    "rf_model = cv_rf.fit(kdd_train)"
   ]
  },
  {
   "cell_type": "code",
   "execution_count": null,
   "metadata": {},
   "outputs": [],
   "source": []
  },
  {
   "cell_type": "code",
   "execution_count": 75,
   "metadata": {},
   "outputs": [
    {
     "name": "stdout",
     "output_type": "stream",
     "text": [
      "+-----+----------+----------------------------------------+\n",
      "|label|prediction|probability                             |\n",
      "+-----+----------+----------------------------------------+\n",
      "|1    |1.0       |[0.07092756229685554,0.9290724377031445]|\n",
      "|1    |1.0       |[0.07092756229685554,0.9290724377031445]|\n",
      "|1    |1.0       |[0.0749361991687001,0.9250638008313]    |\n",
      "|1    |1.0       |[0.0749361991687001,0.9250638008313]    |\n",
      "|1    |1.0       |[0.0749361991687001,0.9250638008313]    |\n",
      "+-----+----------+----------------------------------------+\n",
      "only showing top 5 rows\n",
      "\n"
     ]
    }
   ],
   "source": [
    "# Create predictions for the testing data and take a look at the predictions\n",
    "prediction_rf = rf_model.transform(kdd_test)\n",
    "prediction_rf.select('label', 'prediction', 'probability').show(5, False)"
   ]
  },
  {
   "cell_type": "code",
   "execution_count": 76,
   "metadata": {
    "scrolled": true
   },
   "outputs": [
    {
     "name": "stdout",
     "output_type": "stream",
     "text": [
      "+-----+----------+-----+\n",
      "|label|prediction|count|\n",
      "+-----+----------+-----+\n",
      "|    1|       0.0|   30|\n",
      "|    0|       0.0|19491|\n",
      "|    1|       1.0|79337|\n",
      "|    0|       1.0|    9|\n",
      "+-----+----------+-----+\n",
      "\n",
      "0.9996055306624051\n"
     ]
    }
   ],
   "source": [
    "# Create a confusion matrix\n",
    "prediction_rf.groupBy('label', 'prediction').count().show()\n",
    "\n",
    "# Calculate the elements of the confusion matrix\n",
    "TN_rf = prediction_rf.filter('prediction = 0 AND label = prediction').count()\n",
    "TP_rf = prediction_rf.filter('prediction = 1 AND label = prediction').count()\n",
    "FN_rf = prediction_rf.filter('prediction = 0 AND label != prediction').count()\n",
    "FP_rf = prediction_rf.filter('prediction = 1 AND label != prediction').count()\n",
    "\n",
    "# Accuracy measures the proportion of correct predictions\n",
    "accuracy_rf = (TN_rf + TP_rf) / (TN_rf + TP_rf + FN_rf + FP_rf)\n",
    "print(accuracy_rf)"
   ]
  },
  {
   "cell_type": "code",
   "execution_count": 77,
   "metadata": {},
   "outputs": [],
   "source": [
    "##The Gridient Boost Machine"
   ]
  },
  {
   "cell_type": "code",
   "execution_count": 78,
   "metadata": {},
   "outputs": [
    {
     "name": "stdout",
     "output_type": "stream",
     "text": [
      "0.9998923966655392\n",
      "CPU times: user 52.1 ms, sys: 14.4 ms, total: 66.5 ms\n",
      "Wall time: 29.9 s\n"
     ]
    }
   ],
   "source": [
    "%%time\n",
    "from pyspark.ml.classification import DecisionTreeClassifier, GBTClassifier\n",
    "from pyspark.ml.evaluation import BinaryClassificationEvaluator\n",
    "\n",
    "# Create model objects and train on training data\n",
    "gbt = GBTClassifier().fit(kdd_train)\n",
    "\n",
    "# Compare AUC on testing data\n",
    "evaluator = BinaryClassificationEvaluator()\n",
    "\n",
    "print(evaluator.evaluate(gbt.transform(kdd_test)))\n"
   ]
  },
  {
   "cell_type": "code",
   "execution_count": 79,
   "metadata": {},
   "outputs": [
    {
     "name": "stdout",
     "output_type": "stream",
     "text": [
      "20\n",
      "(115,[0,1,2,4,6,7,8,9,10,12,13,14,15,18,19,20,21,22,23,25,26,27,28,29,30,31,32,33,34,35,36,37,38,40,41,42,44,45,46,47,48,50,55,58,59,70,76,80,84,86,92,105,107,108,109,111],[0.002751875861547349,0.01803385728168464,0.12426711483718648,0.0031067198057758718,0.023847395195590818,2.1585230926436794e-05,0.00022816013503532993,0.0008050491695247735,2.197413695550031e-05,5.1137258162508456e-05,0.00013534051606924933,8.187292409324189e-05,0.0001296414641145253,6.73487613265647e-05,0.674066595550602,0.0002673845850830423,0.01963966256095271,0.0036529728073646153,3.128024553271156e-05,1.720175548165228e-05,9.742339852631042e-06,2.2910847310336145e-10,0.010999001981195501,9.006503014234089e-05,0.001004938274371096,0.0009132711533957076,0.012712234658846782,0.030762772210460212,0.0036018164909978256,0.0026928987607885207,0.0006570754318193563,3.344875664247773e-05,0.00040443223429824615,0.003339633527250274,0.007287180497742161,0.020813929321595644,0.002251469529303596,0.00029516710205600263,0.01494668728916714,0.006680737572068762,6.042353467820214e-05,9.597398708329513e-06,5.44088853292028e-06,7.535110008911041e-05,8.869100458605363e-05,9.188474732236469e-08,7.451287762394955e-07,5.136791580903251e-06,0.00011277959884226126,6.532108816921387e-07,2.0416257234705424e-07,4.68088661433828e-06,1.5136093266467908e-07,0.008903275823881172,6.635243675025627e-06,5.469506788880093e-06])\n"
     ]
    }
   ],
   "source": [
    "# Find the number of trees and the relative importance of features\n",
    "print(gbt.getNumTrees)\n",
    "print(gbt.featureImportances)"
   ]
  }
 ],
 "metadata": {
  "kernelspec": {
   "display_name": "Python 3",
   "language": "python",
   "name": "python3"
  },
  "language_info": {
   "codemirror_mode": {
    "name": "ipython",
    "version": 3
   },
   "file_extension": ".py",
   "mimetype": "text/x-python",
   "name": "python",
   "nbconvert_exporter": "python",
   "pygments_lexer": "ipython3",
   "version": "3.7.4"
  }
 },
 "nbformat": 4,
 "nbformat_minor": 2
}
