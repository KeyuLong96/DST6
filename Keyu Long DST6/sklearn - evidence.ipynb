{
 "cells": [
  {
   "cell_type": "code",
   "execution_count": 68,
   "metadata": {},
   "outputs": [],
   "source": [
    "import pandas as pd\n",
    "import numpy as np\n",
    "from sklearn.tree import DecisionTreeClassifier\n",
    "from sklearn.model_selection import GridSearchCV\n",
    "from sklearn.ensemble import RandomForestClassifier\n",
    "from sklearn.metrics import accuracy_score\n",
    "\n",
    "\n",
    "#define colname\n",
    "col_names = [\"duration\",\"protocol_type\",\"service\",\"flag\",\"src_bytes\",\n",
    "    \"dst_bytes\",\"land\",\"wrong_fragment\",\"urgent\",\"hot\",\"num_failed_logins\",\n",
    "    \"logged_in\",\"num_compromised\",\"root_shell\",\"su_attempted\",\"num_root\",\n",
    "    \"num_file_creations\",\"num_shells\",\"num_access_files\",\"num_outbound_cmds\",\n",
    "    \"is_host_login\",\"is_guest_login\",\"count\",\"srv_count\",\"serror_rate\",\n",
    "    \"srv_serror_rate\",\"rerror_rate\",\"srv_rerror_rate\",\"same_srv_rate\",\n",
    "    \"diff_srv_rate\",\"srv_diff_host_rate\",\"dst_host_count\",\"dst_host_srv_count\",\n",
    "    \"dst_host_same_srv_rate\",\"dst_host_diff_srv_rate\",\"dst_host_same_src_port_rate\",\n",
    "    \"dst_host_srv_diff_host_rate\",\"dst_host_serror_rate\",\"dst_host_srv_serror_rate\",\n",
    "    \"dst_host_rerror_rate\",\"dst_host_srv_rerror_rate\",\"label\"]\n",
    "\n",
    "#input the kdd data\n",
    "df=pd.read_csv(\"kddcup.data_10_percent\",header=None,names=col_names)"
   ]
  },
  {
   "cell_type": "code",
   "execution_count": 69,
   "metadata": {},
   "outputs": [
    {
     "data": {
      "text/plain": [
       "1    280790\n",
       "2    107201\n",
       "0     97278\n",
       "3      8752\n",
       "Name: label, dtype: int64"
      ]
     },
     "execution_count": 69,
     "metadata": {},
     "output_type": "execute_result"
    }
   ],
   "source": [
    "#add label for classification\n",
    "labels = df['label'].copy()\n",
    "labels[labels=='neptune.'] = 2\n",
    "labels[labels=='smurf.'] = 1\n",
    "labels[labels==\"normal.\"] = 0\n",
    "labels[labels==\"back.\"]=3\n",
    "labels[labels==\"satan.\"]=3\n",
    "labels[labels==\"ipsweep.\"]=3\n",
    "labels[labels==\"portsweep.\"]=3\n",
    "labels[labels==\"warezclient.\"]=3\n",
    "labels[labels==\"teardrop.\"]=3\n",
    "labels[labels==\"pod.\"]=3\n",
    "labels[labels==\"nmap.\"]=3\n",
    "labels[labels==\"guess_passwd.\"]=3\n",
    "labels[labels==\"buffer_overflow.\"]=3\n",
    "labels[labels==\"land.\"]=3\n",
    "labels[labels==\"warezmaster.\"]=3\n",
    "labels[labels==\"imap.\"]=3\n",
    "labels[labels==\"rootkit.\"]=3\n",
    "labels[labels==\"loadmodule.\"]=3\n",
    "labels[labels==\"ftp_write.\"]=3\n",
    "labels[labels==\"multihop.\"]=3\n",
    "labels[labels==\"phf.\"]=3\n",
    "labels[labels==\"perl.\"]=3\n",
    "labels[labels==\"spy.\"]=3\n",
    "\n",
    "labels.value_counts()"
   ]
  },
  {
   "cell_type": "code",
   "execution_count": 70,
   "metadata": {},
   "outputs": [],
   "source": [
    "#delete the label feature\n",
    "del df['label']\n",
    "\n",
    "#define dummy variable\n",
    "df = pd.get_dummies(df, columns=[\"protocol_type\",\"service\",\"flag\"] , prefix=[\"Type_is\",\"Type_is\",\"Type_is\"])"
   ]
  },
  {
   "cell_type": "code",
   "execution_count": 71,
   "metadata": {},
   "outputs": [],
   "source": [
    "from sklearn.model_selection import train_test_split\n",
    "\n",
    "# Create training and test sets\n",
    "X_train, X_test, y_train, y_test = train_test_split(df, labels, test_size=0.2, random_state=42)"
   ]
  },
  {
   "cell_type": "code",
   "execution_count": 72,
   "metadata": {},
   "outputs": [
    {
     "name": "stdout",
     "output_type": "stream",
     "text": [
      "CPU times: user 2.27 s, sys: 257 ms, total: 2.53 s\n",
      "Wall time: 1.36 s\n"
     ]
    },
    {
     "data": {
      "text/plain": [
       "DecisionTreeClassifier(class_weight=None, criterion='gini', max_depth=5,\n",
       "                       max_features=72, max_leaf_nodes=None,\n",
       "                       min_impurity_decrease=0.0, min_impurity_split=None,\n",
       "                       min_samples_leaf=1, min_samples_split=2,\n",
       "                       min_weight_fraction_leaf=0.0, presort=False,\n",
       "                       random_state=None, splitter='best')"
      ]
     },
     "execution_count": 72,
     "metadata": {},
     "output_type": "execute_result"
    }
   ],
   "source": [
    "#define the decision tree\n",
    "tree_classifier=DecisionTreeClassifier(criterion='gini',max_depth=5,max_features=72)\n",
    "\n",
    "#check the trainning time of decision tree\n",
    "%time tree_classifier.fit(X_train,y_train.astype('int'))"
   ]
  },
  {
   "cell_type": "code",
   "execution_count": 73,
   "metadata": {},
   "outputs": [
    {
     "name": "stdout",
     "output_type": "stream",
     "text": [
      "CPU times: user 52.2 ms, sys: 44.6 ms, total: 96.8 ms\n",
      "Wall time: 95.6 ms\n"
     ]
    }
   ],
   "source": [
    "#check the predicting time of decision tree\n",
    "%time pred_tree=tree_classifier.predict(X_test)"
   ]
  },
  {
   "cell_type": "code",
   "execution_count": 74,
   "metadata": {},
   "outputs": [
    {
     "name": "stdout",
     "output_type": "stream",
     "text": [
      "CPU times: user 8.99 ms, sys: 3.24 ms, total: 12.2 ms\n",
      "Wall time: 11.3 ms\n"
     ]
    },
    {
     "data": {
      "text/plain": [
       "0.992864733566115"
      ]
     },
     "execution_count": 74,
     "metadata": {},
     "output_type": "execute_result"
    }
   ],
   "source": [
    "%time accuracy_score(y_test.astype('int'),pred_tree)"
   ]
  },
  {
   "cell_type": "code",
   "execution_count": 75,
   "metadata": {},
   "outputs": [
    {
     "name": "stdout",
     "output_type": "stream",
     "text": [
      "CPU times: user 4min 37s, sys: 2.02 s, total: 4min 39s\n",
      "Wall time: 2min 31s\n"
     ]
    },
    {
     "data": {
      "text/plain": [
       "RandomForestClassifier(bootstrap=True, class_weight=None, criterion='gini',\n",
       "                       max_depth=8, max_features=72, max_leaf_nodes=None,\n",
       "                       min_impurity_decrease=0.0, min_impurity_split=None,\n",
       "                       min_samples_leaf=1, min_samples_split=2,\n",
       "                       min_weight_fraction_leaf=0.0, n_estimators=200,\n",
       "                       n_jobs=None, oob_score=False, random_state=None,\n",
       "                       verbose=0, warm_start=False)"
      ]
     },
     "execution_count": 75,
     "metadata": {},
     "output_type": "execute_result"
    }
   ],
   "source": [
    "#define the random forest classifier\n",
    "rf=RandomForestClassifier(max_depth=8,n_estimators=200,criterion=\"gini\",max_features=72)\n",
    "\n",
    "#check the trainning time of rf\n",
    "%time rf.fit(X_train,y_train.astype('int'))"
   ]
  },
  {
   "cell_type": "code",
   "execution_count": 76,
   "metadata": {},
   "outputs": [
    {
     "name": "stdout",
     "output_type": "stream",
     "text": [
      "CPU times: user 2.02 s, sys: 65.9 ms, total: 2.09 s\n",
      "Wall time: 1.1 s\n"
     ]
    }
   ],
   "source": [
    "#check the predicting time of rf\n",
    "%time pred_rf=rf.predict(X_test)"
   ]
  },
  {
   "cell_type": "code",
   "execution_count": 77,
   "metadata": {},
   "outputs": [
    {
     "name": "stdout",
     "output_type": "stream",
     "text": [
      "CPU times: user 17.7 ms, sys: 3.22 ms, total: 20.9 ms\n",
      "Wall time: 10.1 ms\n"
     ]
    },
    {
     "data": {
      "text/plain": [
       "0.9991802034310004"
      ]
     },
     "execution_count": 77,
     "metadata": {},
     "output_type": "execute_result"
    }
   ],
   "source": [
    "#check the calculation time of accuracy\n",
    "%time accuracy_score(y_test.astype('int'),pred_rf)"
   ]
  },
  {
   "cell_type": "code",
   "execution_count": null,
   "metadata": {},
   "outputs": [],
   "source": []
  }
 ],
 "metadata": {
  "kernelspec": {
   "display_name": "Python 3",
   "language": "python",
   "name": "python3"
  },
  "language_info": {
   "codemirror_mode": {
    "name": "ipython",
    "version": 3
   },
   "file_extension": ".py",
   "mimetype": "text/x-python",
   "name": "python",
   "nbconvert_exporter": "python",
   "pygments_lexer": "ipython3",
   "version": "3.7.4"
  }
 },
 "nbformat": 4,
 "nbformat_minor": 2
}
