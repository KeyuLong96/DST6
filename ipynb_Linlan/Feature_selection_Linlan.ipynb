{
 "cells": [
  {
   "cell_type": "markdown",
   "metadata": {},
   "source": [
    "# Feature Selection Test\n",
    "The feature selection models were compared and analyzed by Naive Bayes Classifier.\n",
    "\n",
    "We only choose ten most important features in each model for a test."
   ]
  },
  {
   "cell_type": "markdown",
   "metadata": {},
   "source": [
    "## Dataset Pre-processing"
   ]
  },
  {
   "cell_type": "code",
   "execution_count": 1,
   "metadata": {},
   "outputs": [],
   "source": [
    "import os\n",
    "from collections  import defaultdict\n",
    "import pandas as pd\n",
    "import numpy as np\n",
    "import matplotlib.pyplot as plt\n",
    "import seaborn as sns\n",
    "from sklearn.model_selection import train_test_split\n",
    "%matplotlib inline"
   ]
  },
  {
   "cell_type": "code",
   "execution_count": 2,
   "metadata": {},
   "outputs": [],
   "source": [
    "import warnings\n",
    "warnings.filterwarnings('ignore')\n",
    "sns.set()"
   ]
  },
  {
   "cell_type": "code",
   "execution_count": 3,
   "metadata": {},
   "outputs": [],
   "source": [
    "#the directory containing all of the relevant data files\n",
    "dataset_root = '/Users/lila/Downloads/Data Science Toolbox/KDD'"
   ]
  },
  {
   "cell_type": "code",
   "execution_count": 4,
   "metadata": {},
   "outputs": [],
   "source": [
    "current_path = %pwd"
   ]
  },
  {
   "cell_type": "code",
   "execution_count": 5,
   "metadata": {},
   "outputs": [],
   "source": [
    "raw_data = os.path.join(dataset_root, 'kddcup.data_10_percent')"
   ]
  },
  {
   "cell_type": "code",
   "execution_count": 6,
   "metadata": {},
   "outputs": [],
   "source": [
    "header_names = ['duration', 'protocol_type', 'service', 'flag', 'src_bytes', 'dst_bytes', 'land', 'wrong_fragment', 'urgent', 'hot', 'num_failed_logins', 'logged_in', 'num_compromised', 'root_shell', 'su_attempted', 'num_root', 'num_file_creations', 'num_shells', 'num_access_files', 'num_outbound_cmds', 'is_host_login', 'is_guest_login', 'count', 'srv_count', 'serror_rate', 'srv_serror_rate', 'rerror_rate', 'srv_rerror_rate', 'same_srv_rate', 'diff_srv_rate', 'srv_diff_host_rate', 'dst_host_count', 'dst_host_srv_count', 'dst_host_same_srv_rate', 'dst_host_diff_srv_rate', 'dst_host_same_src_port_rate', 'dst_host_srv_diff_host_rate', 'dst_host_serror_rate', 'dst_host_srv_serror_rate', 'dst_host_rerror_rate', 'dst_host_srv_rerror_rate', 'attack_type']"
   ]
  },
  {
   "cell_type": "code",
   "execution_count": 7,
   "metadata": {},
   "outputs": [],
   "source": [
    "col_names = np.array(header_names)\n",
    "\n",
    "nominal_idx = [1,2,3]\n",
    "binary_idx = [6, 11,13,14,20, 21]\n",
    "numeric_idx = list(set(range(41)).difference(nominal_idx).difference(binary_idx))\n",
    "\n",
    "nominal_cols = col_names[nominal_idx].tolist()\n",
    "binary_cols = col_names[binary_idx].tolist()\n",
    "numeric_cols = col_names[numeric_idx].tolist()"
   ]
  },
  {
   "cell_type": "code",
   "execution_count": 8,
   "metadata": {},
   "outputs": [],
   "source": [
    "category = defaultdict(list)\n",
    "category[0].append('normal.')"
   ]
  },
  {
   "cell_type": "code",
   "execution_count": 9,
   "metadata": {},
   "outputs": [
    {
     "name": "stdout",
     "output_type": "stream",
     "text": [
      "{'normal.': 0, 'back.': 1, 'land.': 1, 'neptune.': 1, 'pod.': 1, 'smurf.': 1, 'teardrop.': 1, 'apache2.': 1, 'udpstorm.': 1, 'processtable.': 1, 'worm.': 1, 'satan.': 1, 'ipsweep.': 1, 'nmap.': 1, 'portsweep.': 1, 'mscan.': 1, 'saint.': 1, 'guess_passwd.': 1, 'ftp_write.': 1, 'imap.': 1, 'phf.': 1, 'multihop.': 1, 'warezmaster.': 1, 'warezclient.': 1, 'spy.': 1, 'xlock.': 1, 'xsnoop.': 1, 'snmpguess.': 1, 'snmpgetattack.': 1, 'httptunnel.': 1, 'sendmail.': 1, 'named.': 1, 'buffer_overflow.': 1, 'loadmodule.': 1, 'rootkit.': 1, 'perl.': 1, 'sqlattack.': 1, 'xterm.': 1, 'ps.': 1, 'mailbomb.': 1}\n"
     ]
    }
   ],
   "source": [
    "with open(r'/Users/lila/Downloads/Data Science Toolbox/KDD/training_attack_types1.0.txt', mode = 'r', encoding = 'utf-8-sig') as f:\n",
    "    for line in f.readlines():\n",
    "        #print(line.strip().split(' '))\n",
    "        attack, cat = line.strip().split(' ')\n",
    "        cat = 1\n",
    "        category[cat].append(attack)\n",
    "\n",
    "attack_mapping = dict((v,k) for k in category for v in category[k])\n",
    "print (attack_mapping)"
   ]
  },
  {
   "cell_type": "code",
   "execution_count": 10,
   "metadata": {},
   "outputs": [],
   "source": [
    "data_df = pd.read_csv(raw_data, names=header_names)\n",
    "data_df['attack_category'] = data_df['attack_type'].map(lambda x: attack_mapping[x])"
   ]
  },
  {
   "cell_type": "code",
   "execution_count": 11,
   "metadata": {},
   "outputs": [],
   "source": [
    "from sklearn.preprocessing import StandardScaler\n",
    "standard_scaler = StandardScaler().fit(data_df[numeric_cols])\n",
    "data_df[numeric_cols] = standard_scaler.transform(data_df[numeric_cols])"
   ]
  },
  {
   "cell_type": "markdown",
   "metadata": {},
   "source": [
    "### Initial Classifier without feature selection"
   ]
  },
  {
   "cell_type": "code",
   "execution_count": 12,
   "metadata": {},
   "outputs": [],
   "source": [
    "y = data_df['attack_category']\n",
    "x = data_df[numeric_cols]"
   ]
  },
  {
   "cell_type": "code",
   "execution_count": 13,
   "metadata": {},
   "outputs": [],
   "source": [
    "#Cross validation\n",
    "from sklearn.metrics import confusion_matrix\n",
    "from sklearn.metrics import classification_report\n",
    "## Spliting of training dataset into 80% training data and 20% testing data randomly\n",
    "features_train, features_test, labels_train, labels_test = train_test_split(x, y, test_size=0.2, random_state=42)"
   ]
  },
  {
   "cell_type": "code",
   "execution_count": 14,
   "metadata": {},
   "outputs": [
    {
     "name": "stdout",
     "output_type": "stream",
     "text": [
      "------------------------------------------\n",
      "Accuracy =  98.46971307120084  %\n",
      "[[19070   283]\n",
      " [ 1229 78223]]\n",
      "              precision    recall  f1-score   support\n",
      "\n",
      "           0       0.94      0.99      0.96     19353\n",
      "           1       1.00      0.98      0.99     79452\n",
      "\n",
      "    accuracy                           0.98     98805\n",
      "   macro avg       0.97      0.98      0.98     98805\n",
      "weighted avg       0.99      0.98      0.98     98805\n",
      "\n"
     ]
    },
    {
     "data": {
      "image/png": "[encoded data removed]",
      "text/plain": [
       "<Figure size 432x288 with 1 Axes>"
      ]
     },
     "metadata": {},
     "output_type": "display_data"
    }
   ],
   "source": [
    "#Naive Bayes Classifier\n",
    "from sklearn import metrics\n",
    "from sklearn import tree\n",
    "from sklearn.naive_bayes import GaussianNB\n",
    "from sklearn.metrics import accuracy_score\n",
    "from sklearn.metrics import classification_report\n",
    "from sklearn.metrics import confusion_matrix\n",
    "from sklearn.metrics import mean_squared_error\n",
    "clf = GaussianNB()\n",
    "clf.fit(features_train, labels_train)\n",
    "prediction = clf.predict(features_test)\n",
    "acc=accuracy_score(prediction, labels_test)\n",
    "print(\"------------------------------------------\")\n",
    "print(\"Accuracy = \",acc*100,\" %\")\n",
    "matrix = confusion_matrix(labels_test, prediction)\n",
    "print(matrix)\n",
    "report = classification_report(labels_test, prediction)\n",
    "print(report)\n",
    "\n",
    "from sklearn.metrics import roc_curve\n",
    "from sklearn.metrics import auc\n",
    "from sklearn import metrics\n",
    "fpr, tpr, threshold = metrics.roc_curve(labels_test, prediction)\n",
    "roc_auc = metrics.auc(fpr, tpr)\n",
    "import matplotlib.pyplot as plt\n",
    "plt.title('Receiver Operating Characteristic')\n",
    "plt.plot(fpr, tpr, 'b', label = 'AUC = %0.2f' % roc_auc)\n",
    "plt.legend(loc = 'lower right')\n",
    "plt.plot([0, 1], [0, 1],'r--')\n",
    "plt.xlim([0, 1])\n",
    "plt.ylim([0, 1])\n",
    "plt.ylabel('True Positive Rate')\n",
    "plt.xlabel('False Positive Rate')\n",
    "plt.show()"
   ]
  },
  {
   "cell_type": "code",
   "execution_count": 15,
   "metadata": {},
   "outputs": [],
   "source": [
    "numeric_names = col_names[numeric_idx].tolist()\n",
    "names = numeric_names"
   ]
  },
  {
   "cell_type": "markdown",
   "metadata": {},
   "source": [
    "## Feature Selection Model\n"
   ]
  },
  {
   "cell_type": "markdown",
   "metadata": {},
   "source": [
    "### Decision Tree\n",
    "\n",
    "Applying Decision Tree to find important features. Higher the score more the important the attribute.\n",
    "\n",
    "Then display the relative importance of each attribute."
   ]
  },
  {
   "cell_type": "code",
   "execution_count": 16,
   "metadata": {},
   "outputs": [
    {
     "name": "stdout",
     "output_type": "stream",
     "text": [
      "Features sorted by their score:\n",
      "[(0.1471736939, 'dst_host_same_srv_rate'), (0.1413636532, 'dst_host_count'), (0.1350352011, 'dst_host_same_src_port_rate'), (0.1294156209, 'srv_count'), (0.0995472403, 'count'), (0.0754141917, 'dst_host_srv_count'), (0.0538226223, 'srv_rerror_rate'), (0.0468579194, 'dst_host_srv_serror_rate'), (0.0358161782, 'dst_host_serror_rate'), (0.022467816, 'serror_rate'), (0.0214880122, 'same_srv_rate'), (0.0134005873, 'dst_host_diff_srv_rate'), (0.0112980018, 'src_bytes'), (0.0109241628, 'hot'), (0.0108589785, 'rerror_rate'), (0.0081724524, 'srv_diff_host_rate'), (0.0076134367, 'dst_host_srv_diff_host_rate'), (0.0070687802, 'wrong_fragment'), (0.0056946575, 'num_compromised'), (0.0042328052, 'dst_host_rerror_rate'), (0.0039038832, 'dst_host_srv_rerror_rate'), (0.002973008, 'srv_serror_rate'), (0.0023416892, 'diff_srv_rate'), (0.0020203182, 'dst_bytes'), (0.0005387271, 'duration'), (0.0003471435, 'num_failed_logins'), (7.76251e-05, 'num_file_creations'), (7.58829e-05, 'num_root'), (2.1733e-05, 'num_access_files'), (1.71087e-05, 'urgent'), (1.68693e-05, 'num_shells'), (0.0, 'num_outbound_cmds')]\n"
     ]
    }
   ],
   "source": [
    "from sklearn import metrics\n",
    "from sklearn.ensemble import ExtraTreesClassifier\n",
    "model = ExtraTreesClassifier()\n",
    "model.fit(x, y)\n",
    "\n",
    "print (\"Features sorted by their score:\")\n",
    "print (sorted(zip(map(lambda x: round(x, 10), model.feature_importances_), names), reverse=True))"
   ]
  },
  {
   "cell_type": "code",
   "execution_count": 17,
   "metadata": {},
   "outputs": [],
   "source": [
    "x1 = data_df['count']\n",
    "x2 = data_df['dst_host_same_src_port_rate']\n",
    "x3 = data_df['srv_count']\n",
    "x4 = data_df['dst_bytes']\n",
    "x5 = data_df['dst_host_count']\n",
    "x6 = data_df['same_srv_rate']\n",
    "x7 = data_df['serror_rate']\n",
    "x8 = data_df['dst_host_srv_count']\n",
    "x9 = data_df['srv_rerror_rate']\n",
    "x10 = data_df['dst_host_srv_serror_rate']"
   ]
  },
  {
   "cell_type": "code",
   "execution_count": 18,
   "metadata": {},
   "outputs": [],
   "source": [
    "tree_x = pd.concat ([x1,x2,x3,x4,x5,x6,x7,x8,x9,x10], axis=1)"
   ]
  },
  {
   "cell_type": "code",
   "execution_count": 19,
   "metadata": {},
   "outputs": [],
   "source": [
    "# Cross validation\n",
    "from sklearn.metrics import confusion_matrix\n",
    "from sklearn.metrics import classification_report\n",
    "# Spliting of training dataset into 80% training data and 20% testing data randomly\n",
    "features_train, features_test, labels_train, labels_test = train_test_split(tree_x, y, test_size=0.2, random_state=42)"
   ]
  },
  {
   "cell_type": "code",
   "execution_count": 20,
   "metadata": {},
   "outputs": [
    {
     "name": "stdout",
     "output_type": "stream",
     "text": [
      "------------------------------------------\n",
      "Accuracy =  98.11547998583067  %\n",
      "[[18846   507]\n",
      " [ 1355 78097]]\n",
      "              precision    recall  f1-score   support\n",
      "\n",
      "           0       0.93      0.97      0.95     19353\n",
      "           1       0.99      0.98      0.99     79452\n",
      "\n",
      "    accuracy                           0.98     98805\n",
      "   macro avg       0.96      0.98      0.97     98805\n",
      "weighted avg       0.98      0.98      0.98     98805\n",
      "\n"
     ]
    },
    {
     "data": {
      "image/png": "[encoded data removed]",
      "text/plain": [
       "<Figure size 432x288 with 1 Axes>"
      ]
     },
     "metadata": {},
     "output_type": "display_data"
    }
   ],
   "source": [
    "#Naive Bayes Classifier\n",
    "from sklearn import metrics\n",
    "from sklearn import tree\n",
    "from sklearn.naive_bayes import GaussianNB\n",
    "from sklearn.metrics import accuracy_score\n",
    "from sklearn.metrics import classification_report\n",
    "from sklearn.metrics import confusion_matrix\n",
    "from sklearn.metrics import mean_squared_error\n",
    "clf = GaussianNB()\n",
    "clf.fit(features_train, labels_train)\n",
    "prediction = clf.predict(features_test)\n",
    "acc=accuracy_score(prediction, labels_test)\n",
    "print(\"------------------------------------------\")\n",
    "print(\"Accuracy = \",acc*100,\" %\")\n",
    "matrix = confusion_matrix(labels_test, prediction)\n",
    "print(matrix)\n",
    "report = classification_report(labels_test, prediction)\n",
    "print(report)\n",
    "\n",
    "from sklearn.metrics import roc_curve\n",
    "from sklearn.metrics import auc\n",
    "from sklearn import metrics\n",
    "fpr, tpr, threshold = metrics.roc_curve(labels_test, prediction)\n",
    "roc_auc = metrics.auc(fpr, tpr)\n",
    "import matplotlib.pyplot as plt\n",
    "plt.title('Receiver Operating Characteristic')\n",
    "plt.plot(fpr, tpr, 'b', label = 'AUC = %0.2f' % roc_auc)\n",
    "plt.legend(loc = 'lower right')\n",
    "plt.plot([0, 1], [0, 1],'r--')\n",
    "plt.xlim([0, 1])\n",
    "plt.ylim([0, 1])\n",
    "plt.ylabel('True Positive Rate')\n",
    "plt.xlabel('False Positive Rate')\n",
    "plt.show()"
   ]
  },
  {
   "cell_type": "markdown",
   "metadata": {},
   "source": [
    "### Lasso"
   ]
  },
  {
   "cell_type": "code",
   "execution_count": 21,
   "metadata": {},
   "outputs": [
    {
     "name": "stdout",
     "output_type": "stream",
     "text": [
      "Coefficient Matrix:\n",
      " [-0.00038441  0.          0.          0.0251885   0.          0.01835266\n",
      "  0.          0.         -0.         -0.          0.         -0.\n",
      "  0.          0.22329974  0.10959197  0.          0.02820534  0.\n",
      "  0.02233619 -0.21185939 -0.00755206 -0.          0.02829842 -0.01456674\n",
      " -0.         -0.00646971  0.06597993  0.01936505  0.02828582  0.\n",
      "  0.          0.        ]\n",
      "Features sorted by their score:\n",
      "[(0.2232997425, 'count'), (0.1095919679, 'srv_count'), (0.0659799301, 'dst_host_same_src_port_rate'), (0.028298424, 'dst_host_count'), (0.0282858213, 'dst_host_serror_rate'), (0.02820534, 'srv_serror_rate'), (0.0251884996, 'wrong_fragment'), (0.0223361901, 'srv_rerror_rate'), (0.0193650451, 'dst_host_srv_diff_host_rate'), (0.0183526563, 'hot'), (0.0, 'urgent'), (-0.0, 'srv_diff_host_rate'), (0.0, 'src_bytes'), (0.0, 'serror_rate'), (0.0, 'rerror_rate'), (0.0, 'num_shells'), (-0.0, 'num_root'), (0.0, 'num_outbound_cmds'), (-0.0, 'num_file_creations'), (0.0, 'num_failed_logins'), (0.0, 'num_compromised'), (-0.0, 'num_access_files'), (0.0, 'dst_host_srv_serror_rate'), (0.0, 'dst_host_srv_rerror_rate'), (-0.0, 'dst_host_same_srv_rate'), (0.0, 'dst_host_rerror_rate'), (0.0, 'dst_bytes'), (-0.0003844059, 'duration'), (-0.0064697114, 'dst_host_diff_srv_rate'), (-0.0075520629, 'diff_srv_rate'), (-0.0145667377, 'dst_host_srv_count'), (-0.2118593941, 'same_srv_rate')]\n"
     ]
    }
   ],
   "source": [
    "from sklearn.linear_model import Lasso\n",
    "\n",
    "lasso = Lasso(alpha=0.01)  \n",
    "lasso.fit(x, y)  \n",
    "\n",
    "print('Coefficient Matrix:\\n',lasso.coef_)\n",
    "l1_feature = lasso.coef_.tolist()\n",
    "print (\"Features sorted by their score:\")\n",
    "print (sorted(zip(map(lambda x: round(x, 10), l1_feature), names), reverse=True))"
   ]
  },
  {
   "cell_type": "code",
   "execution_count": 22,
   "metadata": {},
   "outputs": [],
   "source": [
    "y1 = data_df['count']\n",
    "y2 = data_df['srv_count']\n",
    "y3 = data_df['dst_host_same_src_port_rate']\n",
    "y4 = data_df['dst_host_count']\n",
    "y5 = data_df['dst_host_serror_rate']\n",
    "y6 = data_df['srv_serror_rate']\n",
    "y7 = data_df['wrong_fragment']\n",
    "y8 = data_df['srv_rerror_rate']\n",
    "y9 = data_df['dst_host_srv_diff_host_rate']\n",
    "y10 = data_df['hot']"
   ]
  },
  {
   "cell_type": "code",
   "execution_count": 23,
   "metadata": {},
   "outputs": [],
   "source": [
    "lasso_x = pd.concat ([y1,y2,y3,y4,y5,y6,y7,y8,y9,y10], axis=1)"
   ]
  },
  {
   "cell_type": "code",
   "execution_count": 24,
   "metadata": {},
   "outputs": [],
   "source": [
    "#Cross validation\n",
    "from sklearn.metrics import confusion_matrix\n",
    "from sklearn.metrics import classification_report\n",
    "## Spliting of training dataset into 80% training data and 20% testing data randomly\n",
    "features_train, features_test, labels_train, labels_test = train_test_split(lasso_x, y, test_size=0.2, random_state=42)"
   ]
  },
  {
   "cell_type": "code",
   "execution_count": 25,
   "metadata": {},
   "outputs": [
    {
     "name": "stdout",
     "output_type": "stream",
     "text": [
      "------------------------------------------\n",
      "Accuracy =  97.46267901421993  %\n",
      "[[19138   215]\n",
      " [ 2292 77160]]\n",
      "              precision    recall  f1-score   support\n",
      "\n",
      "           0       0.89      0.99      0.94     19353\n",
      "           1       1.00      0.97      0.98     79452\n",
      "\n",
      "    accuracy                           0.97     98805\n",
      "   macro avg       0.95      0.98      0.96     98805\n",
      "weighted avg       0.98      0.97      0.98     98805\n",
      "\n"
     ]
    },
    {
     "data": {
      "image/png": "[encoded data removed]",
      "text/plain": [
       "<Figure size 432x288 with 1 Axes>"
      ]
     },
     "metadata": {},
     "output_type": "display_data"
    }
   ],
   "source": [
    "#Naive Bayes Classifier\n",
    "from sklearn import metrics\n",
    "from sklearn import tree\n",
    "from sklearn.naive_bayes import GaussianNB\n",
    "from sklearn.metrics import accuracy_score\n",
    "from sklearn.metrics import classification_report\n",
    "from sklearn.metrics import confusion_matrix\n",
    "from sklearn.metrics import mean_squared_error\n",
    "clf = GaussianNB()\n",
    "clf.fit(features_train, labels_train)\n",
    "prediction = clf.predict(features_test)\n",
    "acc=accuracy_score(prediction, labels_test)\n",
    "print(\"------------------------------------------\")\n",
    "print(\"Accuracy = \",acc*100,\" %\")\n",
    "matrix = confusion_matrix(labels_test, prediction)\n",
    "print(matrix)\n",
    "report = classification_report(labels_test, prediction)\n",
    "print(report)\n",
    "\n",
    "from sklearn.metrics import roc_curve\n",
    "from sklearn.metrics import auc\n",
    "from sklearn import metrics\n",
    "fpr, tpr, threshold = metrics.roc_curve(labels_test, prediction)\n",
    "roc_auc = metrics.auc(fpr, tpr)\n",
    "import matplotlib.pyplot as plt\n",
    "plt.title('Receiver Operating Characteristic')\n",
    "plt.plot(fpr, tpr, 'b', label = 'AUC = %0.2f' % roc_auc)\n",
    "plt.legend(loc = 'lower right')\n",
    "plt.plot([0, 1], [0, 1],'r--')\n",
    "plt.xlim([0, 1])\n",
    "plt.ylim([0, 1])\n",
    "plt.ylabel('True Positive Rate')\n",
    "plt.xlabel('False Positive Rate')\n",
    "plt.show()"
   ]
  },
  {
   "cell_type": "markdown",
   "metadata": {},
   "source": [
    "### Attribute Ratio(AR)"
   ]
  },
  {
   "cell_type": "code",
   "execution_count": 26,
   "metadata": {},
   "outputs": [],
   "source": [
    "averages = data_df.loc[:, numeric_cols].mean()\n",
    "averages_per_class = data_df[numeric_cols+['attack_category']].groupby('attack_category').mean()\n",
    "\n",
    "AR = {}\n",
    "for col in numeric_cols:\n",
    "    AR[col] = max(averages_per_class[col])/averages[col]"
   ]
  },
  {
   "cell_type": "markdown",
   "metadata": {},
   "source": [
    "The score of AR corresponds to the feature's importance. "
   ]
  },
  {
   "cell_type": "code",
   "execution_count": 27,
   "metadata": {},
   "outputs": [
    {
     "data": {
      "text/plain": [
       "['count',\n",
       " 'diff_srv_rate',\n",
       " 'dst_bytes',\n",
       " 'dst_host_count',\n",
       " 'dst_host_diff_srv_rate',\n",
       " 'dst_host_rerror_rate',\n",
       " 'dst_host_same_src_port_rate',\n",
       " 'dst_host_same_srv_rate',\n",
       " 'dst_host_serror_rate',\n",
       " 'dst_host_srv_count',\n",
       " 'dst_host_srv_diff_host_rate',\n",
       " 'dst_host_srv_rerror_rate',\n",
       " 'dst_host_srv_serror_rate',\n",
       " 'duration',\n",
       " 'hot',\n",
       " 'num_access_files',\n",
       " 'num_compromised',\n",
       " 'num_failed_logins',\n",
       " 'num_file_creations',\n",
       " 'num_outbound_cmds',\n",
       " 'num_root',\n",
       " 'num_shells',\n",
       " 'rerror_rate',\n",
       " 'same_srv_rate',\n",
       " 'serror_rate',\n",
       " 'src_bytes',\n",
       " 'srv_count',\n",
       " 'srv_diff_host_rate',\n",
       " 'srv_rerror_rate',\n",
       " 'srv_serror_rate',\n",
       " 'urgent',\n",
       " 'wrong_fragment']"
      ]
     },
     "execution_count": 27,
     "metadata": {},
     "output_type": "execute_result"
    }
   ],
   "source": [
    "sorted(AR) "
   ]
  },
  {
   "cell_type": "code",
   "execution_count": 28,
   "metadata": {},
   "outputs": [],
   "source": [
    "z1 = data_df['count']\n",
    "z2 = data_df['diff_srv_rate']\n",
    "z3 = data_df['dst_bytes']\n",
    "z4 = data_df['dst_host_count']\n",
    "z5 = data_df['dst_host_diff_srv_rate']\n",
    "z6 = data_df['dst_host_rerror_rate']\n",
    "z7 = data_df['dst_host_same_src_port_rate']\n",
    "z8 = data_df['dst_host_same_srv_rate']\n",
    "z9 = data_df['dst_host_srv_count']\n",
    "z10 = data_df['hot']"
   ]
  },
  {
   "cell_type": "code",
   "execution_count": 29,
   "metadata": {},
   "outputs": [],
   "source": [
    "ar_x = pd.concat ([z1,z2,z3,z4,z5,z6,z7,z8,z9,z10], axis=1)"
   ]
  },
  {
   "cell_type": "code",
   "execution_count": 30,
   "metadata": {},
   "outputs": [],
   "source": [
    "#Cross validation\n",
    "from sklearn.metrics import confusion_matrix\n",
    "from sklearn.metrics import classification_report\n",
    "## Spliting of training dataset into 80% training data and 20% testing data randomly\n",
    "features_train, features_test, labels_train, labels_test = train_test_split(ar_x, y, test_size=0.2, random_state=42)"
   ]
  },
  {
   "cell_type": "code",
   "execution_count": 31,
   "metadata": {},
   "outputs": [
    {
     "name": "stdout",
     "output_type": "stream",
     "text": [
      "------------------------------------------\n",
      "Accuracy =  98.02439147816406  %\n",
      "[[18950   403]\n",
      " [ 1549 77903]]\n",
      "              precision    recall  f1-score   support\n",
      "\n",
      "           0       0.92      0.98      0.95     19353\n",
      "           1       0.99      0.98      0.99     79452\n",
      "\n",
      "    accuracy                           0.98     98805\n",
      "   macro avg       0.96      0.98      0.97     98805\n",
      "weighted avg       0.98      0.98      0.98     98805\n",
      "\n"
     ]
    },
    {
     "data": {
      "image/png": "[encoded data removed]",
      "text/plain": [
       "<Figure size 432x288 with 1 Axes>"
      ]
     },
     "metadata": {},
     "output_type": "display_data"
    }
   ],
   "source": [
    "#Naive Bayes Classifier\n",
    "from sklearn import metrics\n",
    "from sklearn import tree\n",
    "from sklearn.naive_bayes import GaussianNB\n",
    "from sklearn.metrics import accuracy_score\n",
    "from sklearn.metrics import classification_report\n",
    "from sklearn.metrics import confusion_matrix\n",
    "from sklearn.metrics import mean_squared_error\n",
    "clf = GaussianNB()\n",
    "clf.fit(features_train, labels_train)\n",
    "prediction = clf.predict(features_test)\n",
    "acc=accuracy_score(prediction, labels_test)\n",
    "print(\"------------------------------------------\")\n",
    "print(\"Accuracy = \",acc*100,\" %\")\n",
    "matrix = confusion_matrix(labels_test, prediction)\n",
    "print(matrix)\n",
    "report = classification_report(labels_test, prediction)\n",
    "print(report)\n",
    "\n",
    "from sklearn.metrics import roc_curve\n",
    "from sklearn.metrics import auc\n",
    "from sklearn import metrics\n",
    "fpr, tpr, threshold = metrics.roc_curve(labels_test, prediction)\n",
    "roc_auc = metrics.auc(fpr, tpr)\n",
    "import matplotlib.pyplot as plt\n",
    "plt.title('Receiver Operating Characteristic')\n",
    "plt.plot(fpr, tpr, 'b', label = 'AUC = %0.2f' % roc_auc)\n",
    "plt.legend(loc = 'lower right')\n",
    "plt.plot([0, 1], [0, 1],'r--')\n",
    "plt.xlim([0, 1])\n",
    "plt.ylim([0, 1])\n",
    "plt.ylabel('True Positive Rate')\n",
    "plt.xlabel('False Positive Rate')\n",
    "plt.show()"
   ]
  },
  {
   "cell_type": "code",
   "execution_count": null,
   "metadata": {},
   "outputs": [],
   "source": []
  }
 ],
 "metadata": {
  "kernelspec": {
   "display_name": "Python 3",
   "language": "python",
   "name": "python3"
  },
  "language_info": {
   "codemirror_mode": {
    "name": "ipython",
    "version": 3
   },
   "file_extension": ".py",
   "mimetype": "text/x-python",
   "name": "python",
   "nbconvert_exporter": "python",
   "pygments_lexer": "ipython3",
   "version": "3.7.3"
  }
 },
 "nbformat": 4,
 "nbformat_minor": 2
}
