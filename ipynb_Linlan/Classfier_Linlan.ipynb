{
 "cells": [
  {
   "cell_type": "markdown",
   "metadata": {},
   "source": [
    "# Classification algorithm\n",
    "\n",
    "In this part, I tested naive Bayes, logistic regression, decision trees, random forests, linear SVM and K-neighbours algorithms.\n",
    "\n",
    "I only used digital features for training, but the results of the classification algorithms are still very good, so I suspect that it may be over-fitting. In order to verify our guess, Cauchy conducted some tests."
   ]
  },
  {
   "cell_type": "markdown",
   "metadata": {},
   "source": [
    "## Dataset Pre-processing"
   ]
  },
  {
   "cell_type": "code",
   "execution_count": 1,
   "metadata": {},
   "outputs": [],
   "source": [
    "import os\n",
    "from collections  import defaultdict\n",
    "import pandas as pd\n",
    "import numpy as np\n",
    "import matplotlib.pyplot as plt\n",
    "import seaborn as sns\n",
    "from sklearn.model_selection import train_test_split\n",
    "%matplotlib inline"
   ]
  },
  {
   "cell_type": "code",
   "execution_count": 2,
   "metadata": {},
   "outputs": [],
   "source": [
    "import warnings\n",
    "warnings.filterwarnings('ignore')\n",
    "sns.set()"
   ]
  },
  {
   "cell_type": "code",
   "execution_count": 3,
   "metadata": {},
   "outputs": [],
   "source": [
    "#the directory containing all of the relevant data files\n",
    "dataset_root = '/Users/lila/Downloads/Data Science Toolbox/KDD'"
   ]
  },
  {
   "cell_type": "code",
   "execution_count": 4,
   "metadata": {},
   "outputs": [],
   "source": [
    "current_path = %pwd"
   ]
  },
  {
   "cell_type": "code",
   "execution_count": 5,
   "metadata": {},
   "outputs": [],
   "source": [
    "raw_data = os.path.join(dataset_root, 'kddcup.data_10_percent')"
   ]
  },
  {
   "cell_type": "code",
   "execution_count": 6,
   "metadata": {},
   "outputs": [],
   "source": [
    "header_names = ['duration', 'protocol_type', 'service', 'flag', 'src_bytes', 'dst_bytes', 'land', 'wrong_fragment', 'urgent', 'hot', 'num_failed_logins', 'logged_in', 'num_compromised', 'root_shell', 'su_attempted', 'num_root', 'num_file_creations', 'num_shells', 'num_access_files', 'num_outbound_cmds', 'is_host_login', 'is_guest_login', 'count', 'srv_count', 'serror_rate', 'srv_serror_rate', 'rerror_rate', 'srv_rerror_rate', 'same_srv_rate', 'diff_srv_rate', 'srv_diff_host_rate', 'dst_host_count', 'dst_host_srv_count', 'dst_host_same_srv_rate', 'dst_host_diff_srv_rate', 'dst_host_same_src_port_rate', 'dst_host_srv_diff_host_rate', 'dst_host_serror_rate', 'dst_host_srv_serror_rate', 'dst_host_rerror_rate', 'dst_host_srv_rerror_rate', 'attack_type']"
   ]
  },
  {
   "cell_type": "code",
   "execution_count": 7,
   "metadata": {},
   "outputs": [],
   "source": [
    "col_names = np.array(header_names)\n",
    "\n",
    "nominal_idx = [1,2,3]\n",
    "binary_idx = [6, 11,13,14,20, 21]\n",
    "numeric_idx = list(set(range(41)).difference(nominal_idx).difference(binary_idx))\n",
    "\n",
    "nominal_cols = col_names[nominal_idx].tolist()\n",
    "binary_cols = col_names[binary_idx].tolist()\n",
    "numeric_cols = col_names[numeric_idx].tolist()"
   ]
  },
  {
   "cell_type": "code",
   "execution_count": 8,
   "metadata": {},
   "outputs": [],
   "source": [
    "category = defaultdict(list)\n",
    "category['benign'].append('normal.')\n",
    "\n",
    "with open(r'/Users/lila/Downloads/Data Science Toolbox/KDD/training_attack_types1.0.txt', mode = 'r', encoding = 'utf-8-sig') as f:\n",
    "    for line in f.readlines():\n",
    "        #print(line.strip().split(' '))\n",
    "        attack, cat = line.strip().split(' ')\n",
    "        category[cat].append(attack)\n",
    "\n",
    "attack_mapping = dict((v,k) for k in category for v in category[k])"
   ]
  },
  {
   "cell_type": "code",
   "execution_count": 9,
   "metadata": {},
   "outputs": [],
   "source": [
    "data_df = pd.read_csv(raw_data, names=header_names)\n",
    "data_df['attack_category'] = data_df['attack_type'].map(lambda x: attack_mapping[x])"
   ]
  },
  {
   "cell_type": "code",
   "execution_count": 10,
   "metadata": {},
   "outputs": [
    {
     "data": {
      "text/plain": [
       "dos       391458\n",
       "benign     97278\n",
       "probe       4107\n",
       "r2l         1126\n",
       "u2r           52\n",
       "Name: attack_category, dtype: int64"
      ]
     },
     "execution_count": 10,
     "metadata": {},
     "output_type": "execute_result"
    }
   ],
   "source": [
    "data_df['attack_category'].value_counts()"
   ]
  },
  {
   "cell_type": "code",
   "execution_count": 11,
   "metadata": {},
   "outputs": [],
   "source": [
    "cleanup_category = {\"attack_category\":{\"dos\": 1, \"benign\": 0, \"probe\": 1, \"r2l\": 1, \"u2r\": 1}}\n",
    "\n",
    "data_df.replace(cleanup_category, inplace=True)"
   ]
  },
  {
   "cell_type": "code",
   "execution_count": 12,
   "metadata": {},
   "outputs": [
    {
     "data": {
      "text/plain": [
       "1    396743\n",
       "0     97278\n",
       "Name: attack_category, dtype: int64"
      ]
     },
     "execution_count": 12,
     "metadata": {},
     "output_type": "execute_result"
    }
   ],
   "source": [
    "data_df['attack_category'].value_counts()"
   ]
  },
  {
   "cell_type": "code",
   "execution_count": 13,
   "metadata": {},
   "outputs": [],
   "source": [
    "#StandardScaler - Apply to all the numeric columns\n",
    "from sklearn.preprocessing import StandardScaler\n",
    "standard_scaler = StandardScaler().fit(data_df[numeric_cols])\n",
    "data_df[numeric_cols] = standard_scaler.transform(data_df[numeric_cols])"
   ]
  },
  {
   "cell_type": "markdown",
   "metadata": {},
   "source": [
    "## Initial data Classification"
   ]
  },
  {
   "cell_type": "code",
   "execution_count": 14,
   "metadata": {},
   "outputs": [],
   "source": [
    "y = data_df['attack_category']\n",
    "x = data_df[numeric_cols]"
   ]
  },
  {
   "cell_type": "code",
   "execution_count": 15,
   "metadata": {},
   "outputs": [],
   "source": [
    "#Cross validation\n",
    "from sklearn.metrics import confusion_matrix\n",
    "from sklearn.metrics import classification_report\n",
    "## Spliting of training dataset into 80% training data and 20% testing data randomly\n",
    "features_train, features_test, labels_train, labels_test = train_test_split(x, y, test_size=0.2, random_state=42)"
   ]
  },
  {
   "cell_type": "code",
   "execution_count": 16,
   "metadata": {},
   "outputs": [
    {
     "name": "stdout",
     "output_type": "stream",
     "text": [
      "------------------------------------------\n",
      "Accuracy =  98.46971307120084  %\n",
      "[[19070   283]\n",
      " [ 1229 78223]]\n",
      "              precision    recall  f1-score   support\n",
      "\n",
      "           0       0.94      0.99      0.96     19353\n",
      "           1       1.00      0.98      0.99     79452\n",
      "\n",
      "    accuracy                           0.98     98805\n",
      "   macro avg       0.97      0.98      0.98     98805\n",
      "weighted avg       0.99      0.98      0.98     98805\n",
      "\n"
     ]
    },
    {
     "data": {
      "image/png": "[encoded data removed]",
      "text/plain": [
       "<Figure size 432x288 with 1 Axes>"
      ]
     },
     "metadata": {},
     "output_type": "display_data"
    }
   ],
   "source": [
    "#Naive Bayes Classifier\n",
    "from sklearn import metrics\n",
    "from sklearn import tree\n",
    "from sklearn.naive_bayes import GaussianNB\n",
    "from sklearn.metrics import accuracy_score\n",
    "from sklearn.metrics import classification_report\n",
    "from sklearn.metrics import confusion_matrix\n",
    "from sklearn.metrics import mean_squared_error\n",
    "clf = GaussianNB()\n",
    "clf.fit(features_train, labels_train)\n",
    "prediction = clf.predict(features_test)\n",
    "acc=accuracy_score(prediction, labels_test)\n",
    "print(\"------------------------------------------\")\n",
    "print(\"Accuracy = \",acc*100,\" %\")\n",
    "matrix = confusion_matrix(labels_test, prediction)\n",
    "print(matrix)\n",
    "report = classification_report(labels_test, prediction)\n",
    "print(report)\n",
    "\n",
    "from sklearn.metrics import roc_curve\n",
    "from sklearn.metrics import auc\n",
    "from sklearn import metrics\n",
    "fpr, tpr, threshold = metrics.roc_curve(labels_test, prediction)\n",
    "roc_auc = metrics.auc(fpr, tpr)\n",
    "import matplotlib.pyplot as plt\n",
    "plt.title('Receiver Operating Characteristic')\n",
    "plt.plot(fpr, tpr, 'b', label = 'AUC = %0.2f' % roc_auc)\n",
    "plt.legend(loc = 'lower right')\n",
    "plt.plot([0, 1], [0, 1],'r--')\n",
    "plt.xlim([0, 1])\n",
    "plt.ylim([0, 1])\n",
    "plt.ylabel('True Positive Rate')\n",
    "plt.xlabel('False Positive Rate')\n",
    "plt.show()"
   ]
  },
  {
   "cell_type": "markdown",
   "metadata": {},
   "source": [
    "## Feature selection"
   ]
  },
  {
   "cell_type": "code",
   "execution_count": 18,
   "metadata": {},
   "outputs": [],
   "source": [
    "numeric_names = col_names[numeric_idx].tolist()"
   ]
  },
  {
   "cell_type": "code",
   "execution_count": 19,
   "metadata": {},
   "outputs": [
    {
     "name": "stdout",
     "output_type": "stream",
     "text": [
      "Features sorted by their score:\n",
      "[(0.2244369919, 'count'), (0.1490226392, 'srv_count'), (0.0997760686, 'dst_host_count'), (0.0969591453, 'dst_host_same_src_port_rate'), (0.0934199513, 'same_srv_rate'), (0.0917744244, 'serror_rate'), (0.0780301613, 'dst_host_same_srv_rate'), (0.0415630532, 'dst_host_srv_serror_rate'), (0.0169287864, 'dst_host_rerror_rate'), (0.0143279966, 'dst_host_srv_rerror_rate'), (0.0137503656, 'srv_rerror_rate'), (0.0130991592, 'dst_host_serror_rate'), (0.0120828879, 'hot'), (0.0102659228, 'src_bytes'), (0.0090501162, 'dst_host_srv_diff_host_rate'), (0.0072904696, 'wrong_fragment'), (0.0055583144, 'dst_host_diff_srv_rate'), (0.0054395889, 'srv_serror_rate'), (0.0050748871, 'dst_host_srv_count'), (0.0041579932, 'num_compromised'), (0.00222574, 'srv_diff_host_rate'), (0.0018419889, 'rerror_rate'), (0.0016333788, 'dst_bytes'), (0.001210551, 'diff_srv_rate'), (0.0005884423, 'duration'), (0.0002700907, 'num_failed_logins'), (8.72826e-05, 'num_file_creations'), (5.50833e-05, 'num_root'), (3.87463e-05, 'num_access_files'), (2.79724e-05, 'num_shells'), (1.18004e-05, 'urgent'), (0.0, 'num_outbound_cmds')]\n"
     ]
    }
   ],
   "source": [
    "#Applying Decision tree to find important features. Higher the score more the important the attribute\n",
    "from sklearn import metrics\n",
    "from sklearn.ensemble import ExtraTreesClassifier\n",
    "model = ExtraTreesClassifier()\n",
    "model.fit(x, y)\n",
    "\n",
    "names = numeric_names\n",
    "\n",
    "print (\"Features sorted by their score:\")\n",
    "print (sorted(zip(map(lambda x: round(x, 10), model.feature_importances_), names), reverse=True))\n",
    "# display the relative importance of each attribute"
   ]
  },
  {
   "cell_type": "code",
   "execution_count": 20,
   "metadata": {},
   "outputs": [
    {
     "name": "stdout",
     "output_type": "stream",
     "text": [
      "Features sorted by their score:\n",
      "[(0.8813508413, 'count'), (0.0296392389, 'src_bytes'), (0.0240819207, 'hot'), (0.0201464193, 'dst_bytes'), (0.0154476891, 'dst_host_count'), (0.0127650348, 'dst_host_srv_diff_host_rate'), (0.0034535037, 'dst_host_same_src_port_rate'), (0.0033584057, 'wrong_fragment'), (0.0022849318, 'srv_serror_rate'), (0.0018417124, 'srv_count'), (0.0014444738, 'dst_host_srv_count'), (0.0010290041, 'dst_host_diff_srv_rate'), (0.0007751845, 'dst_host_serror_rate'), (0.000684813, 'dst_host_rerror_rate'), (0.0004177423, 'dst_host_same_srv_rate'), (0.0003486639, 'duration'), (0.0003323953, 'rerror_rate'), (0.0001961417, 'dst_host_srv_serror_rate'), (7.29778e-05, 'srv_rerror_rate'), (6.15943e-05, 'num_file_creations'), (5.99728e-05, 'same_srv_rate'), (3.48698e-05, 'srv_diff_host_rate'), (2.95551e-05, 'diff_srv_rate'), (2.93662e-05, 'num_shells'), (2.69259e-05, 'dst_host_srv_rerror_rate'), (2.15499e-05, 'num_root'), (1.82717e-05, 'num_failed_logins'), (1.765e-05, 'urgent'), (1.33371e-05, 'num_compromised'), (1.22654e-05, 'serror_rate'), (3.5476e-06, 'num_access_files'), (0.0, 'num_outbound_cmds')]\n"
     ]
    }
   ],
   "source": [
    "from sklearn.ensemble import RandomForestRegressor\n",
    "import numpy as np\n",
    "\n",
    "#Load boston housing dataset as an example\n",
    "names = numeric_names\n",
    "\n",
    "rf = RandomForestRegressor()\n",
    "rf.fit(x, y)\n",
    "print (\"Features sorted by their score:\")\n",
    "print (sorted(zip(map(lambda x: round(x, 10), rf.feature_importances_), names), reverse=True))"
   ]
  },
  {
   "cell_type": "code",
   "execution_count": 21,
   "metadata": {},
   "outputs": [],
   "source": [
    "x1 = data_df['count']\n",
    "x2 = data_df['src_bytes']\n",
    "x3 = data_df['hot']\n",
    "x4 = data_df['dst_bytes']\n",
    "x5 = data_df['dst_host_count']\n",
    "x6 = data_df['dst_host_srv_diff_host_rate']\n",
    "x7 = data_df['dst_host_same_src_port_rate']\n",
    "x8 = data_df['wrong_fragment']\n",
    "x9 = data_df['serror_rate']\n",
    "x10 = data_df['srv_count']"
   ]
  },
  {
   "cell_type": "code",
   "execution_count": 22,
   "metadata": {},
   "outputs": [],
   "source": [
    "x = pd.concat ([x1,x2,x3,x4,x5,x6,x7,x8,x9,x10], axis=1)"
   ]
  },
  {
   "cell_type": "code",
   "execution_count": 23,
   "metadata": {},
   "outputs": [
    {
     "data": {
      "text/html": [
       "<div>\n",
       "<style scoped>\n",
       "    .dataframe tbody tr th:only-of-type {\n",
       "        vertical-align: middle;\n",
       "    }\n",
       "\n",
       "    .dataframe tbody tr th {\n",
       "        vertical-align: top;\n",
       "    }\n",
       "\n",
       "    .dataframe thead th {\n",
       "        text-align: right;\n",
       "    }\n",
       "</style>\n",
       "<table border=\"1\" class=\"dataframe\">\n",
       "  <thead>\n",
       "    <tr style=\"text-align: right;\">\n",
       "      <th></th>\n",
       "      <th>0</th>\n",
       "      <th>1</th>\n",
       "      <th>2</th>\n",
       "      <th>3</th>\n",
       "      <th>4</th>\n",
       "      <th>5</th>\n",
       "      <th>6</th>\n",
       "      <th>7</th>\n",
       "      <th>8</th>\n",
       "      <th>9</th>\n",
       "      <th>...</th>\n",
       "      <th>494011</th>\n",
       "      <th>494012</th>\n",
       "      <th>494013</th>\n",
       "      <th>494014</th>\n",
       "      <th>494015</th>\n",
       "      <th>494016</th>\n",
       "      <th>494017</th>\n",
       "      <th>494018</th>\n",
       "      <th>494019</th>\n",
       "      <th>494020</th>\n",
       "    </tr>\n",
       "  </thead>\n",
       "  <tbody>\n",
       "    <tr>\n",
       "      <th>count</th>\n",
       "      <td>-1.521417</td>\n",
       "      <td>-1.521417</td>\n",
       "      <td>-1.521417</td>\n",
       "      <td>-1.530800</td>\n",
       "      <td>-1.530800</td>\n",
       "      <td>-1.530800</td>\n",
       "      <td>-1.554258</td>\n",
       "      <td>-1.535491</td>\n",
       "      <td>-1.521417</td>\n",
       "      <td>-1.521417</td>\n",
       "      <td>...</td>\n",
       "      <td>-1.521417</td>\n",
       "      <td>-1.512033</td>\n",
       "      <td>-1.549566</td>\n",
       "      <td>-1.549566</td>\n",
       "      <td>-1.540183</td>\n",
       "      <td>-1.540183</td>\n",
       "      <td>-1.530800</td>\n",
       "      <td>-1.530800</td>\n",
       "      <td>-1.530800</td>\n",
       "      <td>-1.530800</td>\n",
       "    </tr>\n",
       "    <tr>\n",
       "      <th>src_bytes</th>\n",
       "      <td>-0.002879</td>\n",
       "      <td>-0.002820</td>\n",
       "      <td>-0.002824</td>\n",
       "      <td>-0.002840</td>\n",
       "      <td>-0.002842</td>\n",
       "      <td>-0.002842</td>\n",
       "      <td>-0.002847</td>\n",
       "      <td>-0.002901</td>\n",
       "      <td>-0.002849</td>\n",
       "      <td>-0.002847</td>\n",
       "      <td>...</td>\n",
       "      <td>-0.002750</td>\n",
       "      <td>-0.002767</td>\n",
       "      <td>-0.002769</td>\n",
       "      <td>-0.002752</td>\n",
       "      <td>-0.002769</td>\n",
       "      <td>-0.002748</td>\n",
       "      <td>-0.002776</td>\n",
       "      <td>-0.002856</td>\n",
       "      <td>-0.002767</td>\n",
       "      <td>-0.002840</td>\n",
       "    </tr>\n",
       "    <tr>\n",
       "      <th>hot</th>\n",
       "      <td>-0.044136</td>\n",
       "      <td>-0.044136</td>\n",
       "      <td>-0.044136</td>\n",
       "      <td>-0.044136</td>\n",
       "      <td>-0.044136</td>\n",
       "      <td>-0.044136</td>\n",
       "      <td>-0.044136</td>\n",
       "      <td>-0.044136</td>\n",
       "      <td>-0.044136</td>\n",
       "      <td>1.234470</td>\n",
       "      <td>...</td>\n",
       "      <td>-0.044136</td>\n",
       "      <td>-0.044136</td>\n",
       "      <td>-0.044136</td>\n",
       "      <td>-0.044136</td>\n",
       "      <td>-0.044136</td>\n",
       "      <td>-0.044136</td>\n",
       "      <td>-0.044136</td>\n",
       "      <td>-0.044136</td>\n",
       "      <td>-0.044136</td>\n",
       "      <td>-0.044136</td>\n",
       "    </tr>\n",
       "    <tr>\n",
       "      <th>dst_bytes</th>\n",
       "      <td>0.138664</td>\n",
       "      <td>-0.011578</td>\n",
       "      <td>0.014179</td>\n",
       "      <td>0.014179</td>\n",
       "      <td>0.035214</td>\n",
       "      <td>0.035214</td>\n",
       "      <td>0.032429</td>\n",
       "      <td>0.097411</td>\n",
       "      <td>-0.021717</td>\n",
       "      <td>-0.002498</td>\n",
       "      <td>...</td>\n",
       "      <td>-0.006251</td>\n",
       "      <td>0.030069</td>\n",
       "      <td>-0.018902</td>\n",
       "      <td>-0.006251</td>\n",
       "      <td>0.030069</td>\n",
       "      <td>0.030644</td>\n",
       "      <td>0.042902</td>\n",
       "      <td>0.010032</td>\n",
       "      <td>0.010032</td>\n",
       "      <td>0.011061</td>\n",
       "    </tr>\n",
       "    <tr>\n",
       "      <th>dst_host_count</th>\n",
       "      <td>-3.451536</td>\n",
       "      <td>-3.297085</td>\n",
       "      <td>-3.142633</td>\n",
       "      <td>-2.988182</td>\n",
       "      <td>-2.833731</td>\n",
       "      <td>-2.679279</td>\n",
       "      <td>-3.575097</td>\n",
       "      <td>-3.420646</td>\n",
       "      <td>-3.466981</td>\n",
       "      <td>-3.466981</td>\n",
       "      <td>...</td>\n",
       "      <td>-3.034517</td>\n",
       "      <td>-2.880066</td>\n",
       "      <td>-2.725615</td>\n",
       "      <td>-2.571163</td>\n",
       "      <td>-2.416712</td>\n",
       "      <td>-2.262261</td>\n",
       "      <td>-3.497871</td>\n",
       "      <td>-3.343420</td>\n",
       "      <td>-3.188969</td>\n",
       "      <td>-3.497871</td>\n",
       "    </tr>\n",
       "    <tr>\n",
       "      <th>dst_host_srv_diff_host_rate</th>\n",
       "      <td>-0.158629</td>\n",
       "      <td>-0.158629</td>\n",
       "      <td>-0.158629</td>\n",
       "      <td>-0.158629</td>\n",
       "      <td>-0.158629</td>\n",
       "      <td>-0.158629</td>\n",
       "      <td>0.790749</td>\n",
       "      <td>0.790749</td>\n",
       "      <td>0.790749</td>\n",
       "      <td>1.028094</td>\n",
       "      <td>...</td>\n",
       "      <td>1.265438</td>\n",
       "      <td>1.028094</td>\n",
       "      <td>1.028094</td>\n",
       "      <td>1.028094</td>\n",
       "      <td>1.028094</td>\n",
       "      <td>1.028094</td>\n",
       "      <td>1.028094</td>\n",
       "      <td>1.028094</td>\n",
       "      <td>1.028094</td>\n",
       "      <td>1.028094</td>\n",
       "    </tr>\n",
       "    <tr>\n",
       "      <th>dst_host_same_src_port_rate</th>\n",
       "      <td>-1.022077</td>\n",
       "      <td>-1.146737</td>\n",
       "      <td>-1.188291</td>\n",
       "      <td>-1.188291</td>\n",
       "      <td>-1.209067</td>\n",
       "      <td>-1.209067</td>\n",
       "      <td>0.827048</td>\n",
       "      <td>-1.063631</td>\n",
       "      <td>-1.001301</td>\n",
       "      <td>-1.001301</td>\n",
       "      <td>...</td>\n",
       "      <td>-1.188291</td>\n",
       "      <td>-1.209067</td>\n",
       "      <td>-1.209067</td>\n",
       "      <td>-1.209067</td>\n",
       "      <td>-1.229844</td>\n",
       "      <td>-1.229844</td>\n",
       "      <td>-0.897417</td>\n",
       "      <td>-1.125961</td>\n",
       "      <td>-1.167514</td>\n",
       "      <td>-0.897417</td>\n",
       "    </tr>\n",
       "    <tr>\n",
       "      <th>wrong_fragment</th>\n",
       "      <td>-0.047720</td>\n",
       "      <td>-0.047720</td>\n",
       "      <td>-0.047720</td>\n",
       "      <td>-0.047720</td>\n",
       "      <td>-0.047720</td>\n",
       "      <td>-0.047720</td>\n",
       "      <td>-0.047720</td>\n",
       "      <td>-0.047720</td>\n",
       "      <td>-0.047720</td>\n",
       "      <td>-0.047720</td>\n",
       "      <td>...</td>\n",
       "      <td>-0.047720</td>\n",
       "      <td>-0.047720</td>\n",
       "      <td>-0.047720</td>\n",
       "      <td>-0.047720</td>\n",
       "      <td>-0.047720</td>\n",
       "      <td>-0.047720</td>\n",
       "      <td>-0.047720</td>\n",
       "      <td>-0.047720</td>\n",
       "      <td>-0.047720</td>\n",
       "      <td>-0.047720</td>\n",
       "    </tr>\n",
       "    <tr>\n",
       "      <th>serror_rate</th>\n",
       "      <td>-0.464090</td>\n",
       "      <td>-0.464090</td>\n",
       "      <td>-0.464090</td>\n",
       "      <td>-0.464090</td>\n",
       "      <td>-0.464090</td>\n",
       "      <td>-0.464090</td>\n",
       "      <td>-0.464090</td>\n",
       "      <td>-0.464090</td>\n",
       "      <td>-0.464090</td>\n",
       "      <td>-0.464090</td>\n",
       "      <td>...</td>\n",
       "      <td>-0.464090</td>\n",
       "      <td>-0.464090</td>\n",
       "      <td>-0.464090</td>\n",
       "      <td>-0.464090</td>\n",
       "      <td>-0.464090</td>\n",
       "      <td>-0.464090</td>\n",
       "      <td>-0.464090</td>\n",
       "      <td>-0.017563</td>\n",
       "      <td>-0.464090</td>\n",
       "      <td>-0.464090</td>\n",
       "    </tr>\n",
       "    <tr>\n",
       "      <th>srv_count</th>\n",
       "      <td>-1.156640</td>\n",
       "      <td>-1.156640</td>\n",
       "      <td>-1.156640</td>\n",
       "      <td>-1.164760</td>\n",
       "      <td>-1.164760</td>\n",
       "      <td>-1.164760</td>\n",
       "      <td>-1.180998</td>\n",
       "      <td>-1.168819</td>\n",
       "      <td>-1.156640</td>\n",
       "      <td>-1.156640</td>\n",
       "      <td>...</td>\n",
       "      <td>-1.148521</td>\n",
       "      <td>-1.144461</td>\n",
       "      <td>-1.180998</td>\n",
       "      <td>-1.180998</td>\n",
       "      <td>-1.140401</td>\n",
       "      <td>-1.168819</td>\n",
       "      <td>-1.164760</td>\n",
       "      <td>-1.116043</td>\n",
       "      <td>-1.140401</td>\n",
       "      <td>-1.047028</td>\n",
       "    </tr>\n",
       "  </tbody>\n",
       "</table>\n",
       "<p>10 rows × 494021 columns</p>\n",
       "</div>"
      ],
      "text/plain": [
       "                               0         1         2         3         4       \\\n",
       "count                       -1.521417 -1.521417 -1.521417 -1.530800 -1.530800   \n",
       "src_bytes                   -0.002879 -0.002820 -0.002824 -0.002840 -0.002842   \n",
       "hot                         -0.044136 -0.044136 -0.044136 -0.044136 -0.044136   \n",
       "dst_bytes                    0.138664 -0.011578  0.014179  0.014179  0.035214   \n",
       "dst_host_count              -3.451536 -3.297085 -3.142633 -2.988182 -2.833731   \n",
       "dst_host_srv_diff_host_rate -0.158629 -0.158629 -0.158629 -0.158629 -0.158629   \n",
       "dst_host_same_src_port_rate -1.022077 -1.146737 -1.188291 -1.188291 -1.209067   \n",
       "wrong_fragment              -0.047720 -0.047720 -0.047720 -0.047720 -0.047720   \n",
       "serror_rate                 -0.464090 -0.464090 -0.464090 -0.464090 -0.464090   \n",
       "srv_count                   -1.156640 -1.156640 -1.156640 -1.164760 -1.164760   \n",
       "\n",
       "                               5         6         7         8         9       \\\n",
       "count                       -1.530800 -1.554258 -1.535491 -1.521417 -1.521417   \n",
       "src_bytes                   -0.002842 -0.002847 -0.002901 -0.002849 -0.002847   \n",
       "hot                         -0.044136 -0.044136 -0.044136 -0.044136  1.234470   \n",
       "dst_bytes                    0.035214  0.032429  0.097411 -0.021717 -0.002498   \n",
       "dst_host_count              -2.679279 -3.575097 -3.420646 -3.466981 -3.466981   \n",
       "dst_host_srv_diff_host_rate -0.158629  0.790749  0.790749  0.790749  1.028094   \n",
       "dst_host_same_src_port_rate -1.209067  0.827048 -1.063631 -1.001301 -1.001301   \n",
       "wrong_fragment              -0.047720 -0.047720 -0.047720 -0.047720 -0.047720   \n",
       "serror_rate                 -0.464090 -0.464090 -0.464090 -0.464090 -0.464090   \n",
       "srv_count                   -1.164760 -1.180998 -1.168819 -1.156640 -1.156640   \n",
       "\n",
       "                             ...    494011    494012    494013    494014  \\\n",
       "count                        ... -1.521417 -1.512033 -1.549566 -1.549566   \n",
       "src_bytes                    ... -0.002750 -0.002767 -0.002769 -0.002752   \n",
       "hot                          ... -0.044136 -0.044136 -0.044136 -0.044136   \n",
       "dst_bytes                    ... -0.006251  0.030069 -0.018902 -0.006251   \n",
       "dst_host_count               ... -3.034517 -2.880066 -2.725615 -2.571163   \n",
       "dst_host_srv_diff_host_rate  ...  1.265438  1.028094  1.028094  1.028094   \n",
       "dst_host_same_src_port_rate  ... -1.188291 -1.209067 -1.209067 -1.209067   \n",
       "wrong_fragment               ... -0.047720 -0.047720 -0.047720 -0.047720   \n",
       "serror_rate                  ... -0.464090 -0.464090 -0.464090 -0.464090   \n",
       "srv_count                    ... -1.148521 -1.144461 -1.180998 -1.180998   \n",
       "\n",
       "                               494015    494016    494017    494018    494019  \\\n",
       "count                       -1.540183 -1.540183 -1.530800 -1.530800 -1.530800   \n",
       "src_bytes                   -0.002769 -0.002748 -0.002776 -0.002856 -0.002767   \n",
       "hot                         -0.044136 -0.044136 -0.044136 -0.044136 -0.044136   \n",
       "dst_bytes                    0.030069  0.030644  0.042902  0.010032  0.010032   \n",
       "dst_host_count              -2.416712 -2.262261 -3.497871 -3.343420 -3.188969   \n",
       "dst_host_srv_diff_host_rate  1.028094  1.028094  1.028094  1.028094  1.028094   \n",
       "dst_host_same_src_port_rate -1.229844 -1.229844 -0.897417 -1.125961 -1.167514   \n",
       "wrong_fragment              -0.047720 -0.047720 -0.047720 -0.047720 -0.047720   \n",
       "serror_rate                 -0.464090 -0.464090 -0.464090 -0.017563 -0.464090   \n",
       "srv_count                   -1.140401 -1.168819 -1.164760 -1.116043 -1.140401   \n",
       "\n",
       "                               494020  \n",
       "count                       -1.530800  \n",
       "src_bytes                   -0.002840  \n",
       "hot                         -0.044136  \n",
       "dst_bytes                    0.011061  \n",
       "dst_host_count              -3.497871  \n",
       "dst_host_srv_diff_host_rate  1.028094  \n",
       "dst_host_same_src_port_rate -0.897417  \n",
       "wrong_fragment              -0.047720  \n",
       "serror_rate                 -0.464090  \n",
       "srv_count                   -1.047028  \n",
       "\n",
       "[10 rows x 494021 columns]"
      ]
     },
     "execution_count": 23,
     "metadata": {},
     "output_type": "execute_result"
    }
   ],
   "source": [
    "x.head()\n",
    "x.transpose()"
   ]
  },
  {
   "cell_type": "code",
   "execution_count": 24,
   "metadata": {},
   "outputs": [],
   "source": [
    "#Cross validation\n",
    "from sklearn.metrics import confusion_matrix\n",
    "from sklearn.metrics import classification_report\n",
    "## Spliting of training dataset into 80% training data and 20% testing data randomly\n",
    "features_train, features_test, labels_train, labels_test = train_test_split(x, y, test_size=0.2, random_state=42)"
   ]
  },
  {
   "cell_type": "code",
   "execution_count": 25,
   "metadata": {},
   "outputs": [],
   "source": [
    "#Array for storing classifier Models and their respective scores\n",
    "models=[]\n",
    "scores=[]"
   ]
  },
  {
   "cell_type": "markdown",
   "metadata": {},
   "source": [
    "### Naive Bayes Classifier"
   ]
  },
  {
   "cell_type": "code",
   "execution_count": 26,
   "metadata": {},
   "outputs": [
    {
     "name": "stdout",
     "output_type": "stream",
     "text": [
      "------------------------------------------\n",
      "Accuracy =  97.4060017205607  %\n",
      "[[19164   189]\n",
      " [ 2374 77078]]\n",
      "              precision    recall  f1-score   support\n",
      "\n",
      "           0       0.89      0.99      0.94     19353\n",
      "           1       1.00      0.97      0.98     79452\n",
      "\n",
      "    accuracy                           0.97     98805\n",
      "   macro avg       0.94      0.98      0.96     98805\n",
      "weighted avg       0.98      0.97      0.97     98805\n",
      "\n"
     ]
    },
    {
     "data": {
      "image/png": "[encoded data removed]",
      "text/plain": [
       "<Figure size 432x288 with 1 Axes>"
      ]
     },
     "metadata": {},
     "output_type": "display_data"
    }
   ],
   "source": [
    "#Naive Bayes Classifier\n",
    "from sklearn import metrics\n",
    "from sklearn import tree\n",
    "from sklearn.naive_bayes import GaussianNB\n",
    "from sklearn.metrics import accuracy_score\n",
    "from sklearn.metrics import classification_report\n",
    "from sklearn.metrics import confusion_matrix\n",
    "from sklearn.metrics import mean_squared_error\n",
    "clf = GaussianNB()\n",
    "clf.fit(features_train, labels_train)\n",
    "prediction = clf.predict(features_test)\n",
    "acc=accuracy_score(prediction, labels_test)\n",
    "print(\"------------------------------------------\")\n",
    "print(\"Accuracy = \",acc*100,\" %\")\n",
    "matrix = confusion_matrix(labels_test, prediction)\n",
    "print(matrix)\n",
    "report = classification_report(labels_test, prediction)\n",
    "print(report)\n",
    "\n",
    "from sklearn.metrics import roc_curve\n",
    "from sklearn.metrics import auc\n",
    "from sklearn import metrics\n",
    "fpr, tpr, threshold = metrics.roc_curve(labels_test, prediction)\n",
    "roc_auc = metrics.auc(fpr, tpr)\n",
    "import matplotlib.pyplot as plt\n",
    "plt.title('Receiver Operating Characteristic')\n",
    "plt.plot(fpr, tpr, 'b', label = 'AUC = %0.2f' % roc_auc)\n",
    "plt.legend(loc = 'lower right')\n",
    "plt.plot([0, 1], [0, 1],'r--')\n",
    "plt.xlim([0, 1])\n",
    "plt.ylim([0, 1])\n",
    "plt.ylabel('True Positive Rate')\n",
    "plt.xlabel('False Positive Rate')\n",
    "plt.show()\n",
    "\n",
    "models.append(\"Naive Bayes Classifier\")\n",
    "scores.append(acc*100)"
   ]
  },
  {
   "cell_type": "markdown",
   "metadata": {},
   "source": [
    "### Decision Tree Classifier"
   ]
  },
  {
   "cell_type": "code",
   "execution_count": 27,
   "metadata": {},
   "outputs": [
    {
     "name": "stdout",
     "output_type": "stream",
     "text": [
      "------------------------------------------\n",
      "Accuracy =  99.86842771114823  %\n",
      "[[19322    31]\n",
      " [   99 79353]]\n",
      "              precision    recall  f1-score   support\n",
      "\n",
      "           0       0.99      1.00      1.00     19353\n",
      "           1       1.00      1.00      1.00     79452\n",
      "\n",
      "    accuracy                           1.00     98805\n",
      "   macro avg       1.00      1.00      1.00     98805\n",
      "weighted avg       1.00      1.00      1.00     98805\n",
      "\n"
     ]
    },
    {
     "data": {
      "image/png": "[encoded data removed]",
      "text/plain": [
       "<Figure size 432x288 with 1 Axes>"
      ]
     },
     "metadata": {},
     "output_type": "display_data"
    }
   ],
   "source": [
    "#Decision Tree Classisfier \n",
    "from sklearn import tree\n",
    "clf = tree.DecisionTreeClassifier(splitter = \"random\", criterion = \"entropy\", max_depth = 20)\n",
    " \n",
    "clf.fit(features_train, labels_train)\n",
    "prediction = clf.predict(features_test)\n",
    "## Computing accuracy\n",
    "from sklearn.metrics import accuracy_score\n",
    "acc=accuracy_score(prediction, labels_test)\n",
    "print(\"------------------------------------------\")\n",
    "print(\"Accuracy = \",acc*100,\" %\")\n",
    "matrix = confusion_matrix(labels_test, prediction)\n",
    "print(matrix)\n",
    "report = classification_report(labels_test, prediction)\n",
    "print(report)\n",
    "\n",
    "\n",
    "from sklearn.metrics import roc_curve\n",
    "from sklearn.metrics import auc\n",
    "from sklearn import metrics\n",
    "fpr, tpr, threshold = metrics.roc_curve(labels_test, prediction)\n",
    "roc_auc = metrics.auc(fpr, tpr)\n",
    "import matplotlib.pyplot as plt\n",
    "plt.title('Receiver Operating Characteristic')\n",
    "plt.plot(fpr, tpr, 'b', label = 'AUC = %0.2f' % roc_auc)\n",
    "plt.legend(loc = 'lower right')\n",
    "plt.plot([0, 1], [0, 1],'r--')\n",
    "plt.xlim([0, 1])\n",
    "plt.ylim([0, 1])\n",
    "plt.ylabel('True Positive Rate')\n",
    "plt.xlabel('False Positive Rate')\n",
    "plt.show()\n",
    "\n",
    "models.append(\"Decision tree Classifier\")\n",
    "scores.append(acc*100)"
   ]
  },
  {
   "cell_type": "markdown",
   "metadata": {},
   "source": [
    "### Random Forest Classifier"
   ]
  },
  {
   "cell_type": "code",
   "execution_count": 28,
   "metadata": {},
   "outputs": [
    {
     "name": "stdout",
     "output_type": "stream",
     "text": [
      "------------------------------------------\n",
      "Accuracy =  99.95647993522596  %\n",
      "[[19340    13]\n",
      " [   30 79422]]\n",
      "              precision    recall  f1-score   support\n",
      "\n",
      "           0       1.00      1.00      1.00     19353\n",
      "           1       1.00      1.00      1.00     79452\n",
      "\n",
      "    accuracy                           1.00     98805\n",
      "   macro avg       1.00      1.00      1.00     98805\n",
      "weighted avg       1.00      1.00      1.00     98805\n",
      "\n"
     ]
    },
    {
     "data": {
      "image/png": "[encoded data removed]",
      "text/plain": [
       "<Figure size 432x288 with 1 Axes>"
      ]
     },
     "metadata": {},
     "output_type": "display_data"
    }
   ],
   "source": [
    "#Random Forest Classifier\n",
    "from sklearn import metrics\n",
    "from sklearn.ensemble import RandomForestClassifier\n",
    "clf = RandomForestClassifier()\n",
    "clf.fit(features_train, labels_train)\n",
    "prediction = clf.predict(features_test)\n",
    "acc=accuracy_score(prediction, labels_test)\n",
    "print(\"------------------------------------------\")\n",
    "print(\"Accuracy = \",acc*100,\" %\")\n",
    "matrix = confusion_matrix(labels_test, prediction)\n",
    "print(matrix)\n",
    "\n",
    "report = classification_report(labels_test, prediction)\n",
    "print(report)\n",
    "\n",
    "\n",
    "from sklearn.metrics import roc_curve\n",
    "from sklearn.metrics import auc\n",
    "from sklearn import metrics\n",
    "fpr, tpr, threshold = metrics.roc_curve(labels_test, prediction)\n",
    "roc_auc = metrics.auc(fpr, tpr)\n",
    "import matplotlib.pyplot as plt\n",
    "plt.title('Receiver Operating Characteristic')\n",
    "plt.plot(fpr, tpr, 'b', label = 'AUC = %0.2f' % roc_auc)\n",
    "plt.legend(loc = 'lower right')\n",
    "plt.plot([0, 1], [0, 1],'r--')\n",
    "plt.xlim([0, 1])\n",
    "plt.ylim([0, 1])\n",
    "plt.ylabel('True Positive Rate')\n",
    "plt.xlabel('False Positive Rate')\n",
    "plt.show()\n",
    "\n",
    "models.append(\"Random Forest Classifier\")\n",
    "scores.append(acc*100)"
   ]
  },
  {
   "cell_type": "markdown",
   "metadata": {},
   "source": [
    "### K-Nearest Neighbour Classifier"
   ]
  },
  {
   "cell_type": "code",
   "execution_count": 29,
   "metadata": {},
   "outputs": [
    {
     "name": "stdout",
     "output_type": "stream",
     "text": [
      "------------------------------------------\n",
      "Accuracy =  99.8016294721927  %\n",
      "[[19280    73]\n",
      " [  123 79329]]\n",
      "              precision    recall  f1-score   support\n",
      "\n",
      "           0       0.99      1.00      0.99     19353\n",
      "           1       1.00      1.00      1.00     79452\n",
      "\n",
      "    accuracy                           1.00     98805\n",
      "   macro avg       1.00      1.00      1.00     98805\n",
      "weighted avg       1.00      1.00      1.00     98805\n",
      "\n"
     ]
    },
    {
     "data": {
      "image/png": "[encoded data removed]",
      "text/plain": [
       "<Figure size 432x288 with 1 Axes>"
      ]
     },
     "metadata": {},
     "output_type": "display_data"
    }
   ],
   "source": [
    "#K-Nearest Neighbour Classifier\n",
    "from sklearn import metrics\n",
    "from sklearn.neighbors import KNeighborsClassifier\n",
    "# fit a k-nearest neighbor model to the data\n",
    "clf = KNeighborsClassifier()\n",
    "clf.fit(features_train, labels_train)\n",
    "prediction = clf.predict(features_test)\n",
    "acc=accuracy_score(prediction, labels_test)\n",
    "print(\"------------------------------------------\")\n",
    "print(\"Accuracy = \",acc*100,\" %\")\n",
    "matrix = confusion_matrix(labels_test, prediction)\n",
    "print(matrix)\n",
    "\n",
    "report = classification_report(labels_test, prediction)\n",
    "print(report)\n",
    "\n",
    "\n",
    "from sklearn.metrics import roc_curve\n",
    "from sklearn.metrics import auc\n",
    "from sklearn import metrics\n",
    "fpr, tpr, threshold = metrics.roc_curve(labels_test, prediction)\n",
    "roc_auc = metrics.auc(fpr, tpr)\n",
    "import matplotlib.pyplot as plt\n",
    "plt.title('Receiver Operating Characteristic')\n",
    "plt.plot(fpr, tpr, 'b', label = 'AUC = %0.2f' % roc_auc)\n",
    "plt.legend(loc = 'lower right')\n",
    "plt.plot([0, 1], [0, 1],'r--')\n",
    "plt.xlim([0, 1])\n",
    "plt.ylim([0, 1])\n",
    "plt.ylabel('True Positive Rate')\n",
    "plt.xlabel('False Positive Rate')\n",
    "plt.show()\n",
    "\n",
    "models.append(\"K-Nearest neighbour Classifier\")\n",
    "scores.append(acc*100)"
   ]
  },
  {
   "cell_type": "markdown",
   "metadata": {},
   "source": [
    "### Logistic Regression Classifier"
   ]
  },
  {
   "cell_type": "code",
   "execution_count": 30,
   "metadata": {},
   "outputs": [
    {
     "name": "stdout",
     "output_type": "stream",
     "text": [
      "------------------------------------------\n",
      "Accuracy =  98.8927685845858  %\n",
      "[[19210   143]\n",
      " [  951 78501]]\n",
      "              precision    recall  f1-score   support\n",
      "\n",
      "           0       0.95      0.99      0.97     19353\n",
      "           1       1.00      0.99      0.99     79452\n",
      "\n",
      "    accuracy                           0.99     98805\n",
      "   macro avg       0.98      0.99      0.98     98805\n",
      "weighted avg       0.99      0.99      0.99     98805\n",
      "\n"
     ]
    },
    {
     "data": {
      "image/png": "[encoded data removed]",
      "text/plain": [
       "<Figure size 432x288 with 1 Axes>"
      ]
     },
     "metadata": {},
     "output_type": "display_data"
    }
   ],
   "source": [
    "from sklearn.linear_model import LogisticRegression\n",
    "from sklearn.linear_model import stochastic_gradient\n",
    "\n",
    "\n",
    "clf = LogisticRegression()  \n",
    "clf.fit(features_train, labels_train)  \n",
    "prediction = clf.predict(features_test)\n",
    "acc=accuracy_score(prediction, labels_test)\n",
    "print(\"------------------------------------------\")\n",
    "print(\"Accuracy = \",acc*100,\" %\")\n",
    "matrix = confusion_matrix(labels_test, prediction)\n",
    "print(matrix)\n",
    "\n",
    "report = classification_report(labels_test, prediction)\n",
    "print(report)\n",
    "\n",
    "\n",
    "from sklearn.metrics import roc_curve\n",
    "from sklearn.metrics import auc\n",
    "from sklearn import metrics\n",
    "fpr, tpr, threshold = metrics.roc_curve(labels_test, prediction)\n",
    "roc_auc = metrics.auc(fpr, tpr)\n",
    "import matplotlib.pyplot as plt\n",
    "plt.title('Receiver Operating Characteristic')\n",
    "plt.plot(fpr, tpr, 'b', label = 'AUC = %0.2f' % roc_auc)\n",
    "plt.legend(loc = 'lower right')\n",
    "plt.plot([0, 1], [0, 1],'r--')\n",
    "plt.xlim([0, 1])\n",
    "plt.ylim([0, 1])\n",
    "plt.ylabel('True Positive Rate')\n",
    "plt.xlabel('False Positive Rate')\n",
    "plt.show()\n",
    "\n",
    "models.append(\"Logistic Regression Classifier\")\n",
    "scores.append(acc*100)"
   ]
  },
  {
   "cell_type": "markdown",
   "metadata": {},
   "source": [
    "### Linear SVM Classifier"
   ]
  },
  {
   "cell_type": "code",
   "execution_count": 31,
   "metadata": {},
   "outputs": [
    {
     "name": "stdout",
     "output_type": "stream",
     "text": [
      "------------------------------------------\n",
      "Accuracy =  98.86240574869693  %\n",
      "[[19254    99]\n",
      " [ 1025 78427]]\n",
      "              precision    recall  f1-score   support\n",
      "\n",
      "           0       0.95      0.99      0.97     19353\n",
      "           1       1.00      0.99      0.99     79452\n",
      "\n",
      "    accuracy                           0.99     98805\n",
      "   macro avg       0.97      0.99      0.98     98805\n",
      "weighted avg       0.99      0.99      0.99     98805\n",
      "\n"
     ]
    },
    {
     "data": {
      "image/png": "[encoded data removed]",
      "text/plain": [
       "<Figure size 432x288 with 1 Axes>"
      ]
     },
     "metadata": {},
     "output_type": "display_data"
    }
   ],
   "source": [
    "from sklearn.svm import LinearSVC   \n",
    "\n",
    "\n",
    "clf = LinearSVC() \n",
    "clf.fit(features_train, labels_train)  \n",
    "prediction = clf.predict(features_test)\n",
    "acc=accuracy_score(prediction, labels_test)\n",
    "print(\"------------------------------------------\")\n",
    "print(\"Accuracy = \",acc*100,\" %\")\n",
    "matrix = confusion_matrix(labels_test, prediction)\n",
    "print(matrix)\n",
    "\n",
    "report = classification_report(labels_test, prediction)\n",
    "print(report)\n",
    "\n",
    "\n",
    "from sklearn.metrics import roc_curve\n",
    "from sklearn.metrics import auc\n",
    "from sklearn import metrics\n",
    "fpr, tpr, threshold = metrics.roc_curve(labels_test, prediction)\n",
    "roc_auc = metrics.auc(fpr, tpr)\n",
    "import matplotlib.pyplot as plt\n",
    "plt.title('Receiver Operating Characteristic')\n",
    "plt.plot(fpr, tpr, 'b', label = 'AUC = %0.2f' % roc_auc)\n",
    "plt.legend(loc = 'lower right')\n",
    "plt.plot([0, 1], [0, 1],'r--')\n",
    "plt.xlim([0, 1])\n",
    "plt.ylim([0, 1])\n",
    "plt.ylabel('True Positive Rate')\n",
    "plt.xlabel('False Positive Rate')\n",
    "plt.show()\n",
    "\n",
    "models.append(\"LinearSVC\")\n",
    "scores.append(acc*100)"
   ]
  },
  {
   "cell_type": "markdown",
   "metadata": {},
   "source": [
    "### Comparing Table"
   ]
  },
  {
   "cell_type": "code",
   "execution_count": 32,
   "metadata": {},
   "outputs": [
    {
     "data": {
      "text/html": [
       "<div>\n",
       "<style scoped>\n",
       "    .dataframe tbody tr th:only-of-type {\n",
       "        vertical-align: middle;\n",
       "    }\n",
       "\n",
       "    .dataframe tbody tr th {\n",
       "        vertical-align: top;\n",
       "    }\n",
       "\n",
       "    .dataframe thead th {\n",
       "        text-align: right;\n",
       "    }\n",
       "</style>\n",
       "<table border=\"1\" class=\"dataframe\">\n",
       "  <thead>\n",
       "    <tr style=\"text-align: right;\">\n",
       "      <th></th>\n",
       "      <th>Score</th>\n",
       "    </tr>\n",
       "    <tr>\n",
       "      <th>Model</th>\n",
       "      <th></th>\n",
       "    </tr>\n",
       "  </thead>\n",
       "  <tbody>\n",
       "    <tr>\n",
       "      <th>Naive Bayes Classifier</th>\n",
       "      <td>97.406002</td>\n",
       "    </tr>\n",
       "    <tr>\n",
       "      <th>Decision tree Classifier</th>\n",
       "      <td>99.868428</td>\n",
       "    </tr>\n",
       "    <tr>\n",
       "      <th>Random Forest Classifier</th>\n",
       "      <td>99.956480</td>\n",
       "    </tr>\n",
       "    <tr>\n",
       "      <th>K-Nearest neighbour Classifier</th>\n",
       "      <td>99.801629</td>\n",
       "    </tr>\n",
       "    <tr>\n",
       "      <th>Logistic Regression Classifier</th>\n",
       "      <td>98.892769</td>\n",
       "    </tr>\n",
       "    <tr>\n",
       "      <th>LinearSVC</th>\n",
       "      <td>98.862406</td>\n",
       "    </tr>\n",
       "  </tbody>\n",
       "</table>\n",
       "</div>"
      ],
      "text/plain": [
       "                                    Score\n",
       "Model                                    \n",
       "Naive Bayes Classifier          97.406002\n",
       "Decision tree Classifier        99.868428\n",
       "Random Forest Classifier        99.956480\n",
       "K-Nearest neighbour Classifier  99.801629\n",
       "Logistic Regression Classifier  98.892769\n",
       "LinearSVC                       98.862406"
      ]
     },
     "execution_count": 32,
     "metadata": {},
     "output_type": "execute_result"
    }
   ],
   "source": [
    "#Making a dataframe that consists of models and their respective scores\n",
    "dat = pd.DataFrame(index=[1,2,3,4,5,6])\n",
    "dat[\"Model\"] = models\n",
    "dat[\"Score\"] = scores\n",
    "dat.set_index(\"Model\")"
   ]
  },
  {
   "cell_type": "markdown",
   "metadata": {},
   "source": [
    "## Conclusion\n",
    "In this example, the performance of the linear model does not perform as well as the tree model."
   ]
  }
 ],
 "metadata": {
  "kernelspec": {
   "display_name": "Python 3",
   "language": "python",
   "name": "python3"
  },
  "language_info": {
   "codemirror_mode": {
    "name": "ipython",
    "version": 3
   },
   "file_extension": ".py",
   "mimetype": "text/x-python",
   "name": "python",
   "nbconvert_exporter": "python",
   "pygments_lexer": "ipython3",
   "version": "3.7.3"
  }
 },
 "nbformat": 4,
 "nbformat_minor": 2
}
